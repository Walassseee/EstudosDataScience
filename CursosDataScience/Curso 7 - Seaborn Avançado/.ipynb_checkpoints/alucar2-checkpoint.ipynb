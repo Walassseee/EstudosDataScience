{
 "cells": [
  {
   "cell_type": "markdown",
   "id": "a0965173",
   "metadata": {},
   "source": [
    "# Alucar analisando assinantes"
   ]
  },
  {
   "cell_type": "code",
   "execution_count": 1,
   "id": "0eee7e91",
   "metadata": {},
   "outputs": [],
   "source": [
    "import pandas as pd"
   ]
  },
  {
   "cell_type": "code",
   "execution_count": 2,
   "id": "d5c0e86a",
   "metadata": {},
   "outputs": [],
   "source": [
    "assinantes = pd.read_csv(r'C:\\Users\\walas\\OneDrive\\Área de Trabalho\\Cursos DataScience\\Curso 7\\dados\\material+curso+-+Time+Series\\material curso - Time Series\\newsletter_alucar.csv')"
   ]
  },
  {
   "cell_type": "code",
   "execution_count": null,
   "id": "8a92bb97",
   "metadata": {},
   "outputs": [],
   "source": []
  },
  {
   "cell_type": "code",
   "execution_count": null,
   "id": "8603ed6a",
   "metadata": {},
   "outputs": [],
   "source": []
  }
 ],
 "metadata": {
  "kernelspec": {
   "display_name": "Python 3",
   "language": "python",
   "name": "python3"
  },
  "language_info": {
   "codemirror_mode": {
    "name": "ipython",
    "version": 3
   },
   "file_extension": ".py",
   "mimetype": "text/x-python",
   "name": "python",
   "nbconvert_exporter": "python",
   "pygments_lexer": "ipython3",
   "version": "3.6.13"
  }
 },
 "nbformat": 4,
 "nbformat_minor": 5
}
