{
 "cells": [
  {
   "cell_type": "markdown",
   "source": [
    "# Curso Python para Data Science"
   ],
   "metadata": {
    "collapsed": false
   }
  },
  {
   "cell_type": "markdown",
   "source": [
    "## Importando e lendo arquivos json"
   ],
   "metadata": {
    "collapsed": false
   }
  },
  {
   "cell_type": "code",
   "execution_count": 539,
   "outputs": [],
   "source": [
    "import pandas as pd"
   ],
   "metadata": {
    "collapsed": false
   }
  },
  {
   "cell_type": "code",
   "execution_count": 540,
   "outputs": [
    {
     "data": {
      "text/plain": "        nome  regiao      freq  rank sexo\n0      MARIA       0  11694738     1    F\n1        ANA       0   3079729     2    F\n2  FRANCISCA       0    721637     3    F",
      "text/html": "<div>\n<style scoped>\n    .dataframe tbody tr th:only-of-type {\n        vertical-align: middle;\n    }\n\n    .dataframe tbody tr th {\n        vertical-align: top;\n    }\n\n    .dataframe thead th {\n        text-align: right;\n    }\n</style>\n<table border=\"1\" class=\"dataframe\">\n  <thead>\n    <tr style=\"text-align: right;\">\n      <th></th>\n      <th>nome</th>\n      <th>regiao</th>\n      <th>freq</th>\n      <th>rank</th>\n      <th>sexo</th>\n    </tr>\n  </thead>\n  <tbody>\n    <tr>\n      <th>0</th>\n      <td>MARIA</td>\n      <td>0</td>\n      <td>11694738</td>\n      <td>1</td>\n      <td>F</td>\n    </tr>\n    <tr>\n      <th>1</th>\n      <td>ANA</td>\n      <td>0</td>\n      <td>3079729</td>\n      <td>2</td>\n      <td>F</td>\n    </tr>\n    <tr>\n      <th>2</th>\n      <td>FRANCISCA</td>\n      <td>0</td>\n      <td>721637</td>\n      <td>3</td>\n      <td>F</td>\n    </tr>\n  </tbody>\n</table>\n</div>"
     },
     "execution_count": 540,
     "metadata": {},
     "output_type": "execute_result"
    }
   ],
   "source": [
    "nomes_f = pd.read_json('https://servicodados.ibge.gov.br/api/v1/censos/nomes/ranking?qtd=20&sexo=f')\n",
    "nomes_f.head(3)"
   ],
   "metadata": {
    "collapsed": false
   }
  },
  {
   "cell_type": "code",
   "execution_count": 541,
   "outputs": [
    {
     "data": {
      "text/plain": "      nome  regiao     freq  rank sexo\n0     JOSE       0  5732508     1    M\n1     JOAO       0  2971935     2    M\n2  ANTONIO       0  2567494     3    M",
      "text/html": "<div>\n<style scoped>\n    .dataframe tbody tr th:only-of-type {\n        vertical-align: middle;\n    }\n\n    .dataframe tbody tr th {\n        vertical-align: top;\n    }\n\n    .dataframe thead th {\n        text-align: right;\n    }\n</style>\n<table border=\"1\" class=\"dataframe\">\n  <thead>\n    <tr style=\"text-align: right;\">\n      <th></th>\n      <th>nome</th>\n      <th>regiao</th>\n      <th>freq</th>\n      <th>rank</th>\n      <th>sexo</th>\n    </tr>\n  </thead>\n  <tbody>\n    <tr>\n      <th>0</th>\n      <td>JOSE</td>\n      <td>0</td>\n      <td>5732508</td>\n      <td>1</td>\n      <td>M</td>\n    </tr>\n    <tr>\n      <th>1</th>\n      <td>JOAO</td>\n      <td>0</td>\n      <td>2971935</td>\n      <td>2</td>\n      <td>M</td>\n    </tr>\n    <tr>\n      <th>2</th>\n      <td>ANTONIO</td>\n      <td>0</td>\n      <td>2567494</td>\n      <td>3</td>\n      <td>M</td>\n    </tr>\n  </tbody>\n</table>\n</div>"
     },
     "execution_count": 541,
     "metadata": {},
     "output_type": "execute_result"
    }
   ],
   "source": [
    "nomes_m = pd.read_json('https://servicodados.ibge.gov.br/api/v1/censos/nomes/ranking?qtd=20&sexo=m')\n",
    "nomes_m.head(3)"
   ],
   "metadata": {
    "collapsed": false
   }
  },
  {
   "cell_type": "code",
   "execution_count": 542,
   "outputs": [],
   "source": [
    "lista = [nomes_f, nomes_m]"
   ],
   "metadata": {
    "collapsed": false
   }
  },
  {
   "cell_type": "code",
   "execution_count": 543,
   "outputs": [
    {
     "data": {
      "text/plain": "        nome\n0      MARIA\n1        ANA\n2  FRANCISCA\n3    ANTONIA\n4    ADRIANA",
      "text/html": "<div>\n<style scoped>\n    .dataframe tbody tr th:only-of-type {\n        vertical-align: middle;\n    }\n\n    .dataframe tbody tr th {\n        vertical-align: top;\n    }\n\n    .dataframe thead th {\n        text-align: right;\n    }\n</style>\n<table border=\"1\" class=\"dataframe\">\n  <thead>\n    <tr style=\"text-align: right;\">\n      <th></th>\n      <th>nome</th>\n    </tr>\n  </thead>\n  <tbody>\n    <tr>\n      <th>0</th>\n      <td>MARIA</td>\n    </tr>\n    <tr>\n      <th>1</th>\n      <td>ANA</td>\n    </tr>\n    <tr>\n      <th>2</th>\n      <td>FRANCISCA</td>\n    </tr>\n    <tr>\n      <th>3</th>\n      <td>ANTONIA</td>\n    </tr>\n    <tr>\n      <th>4</th>\n      <td>ADRIANA</td>\n    </tr>\n  </tbody>\n</table>\n</div>"
     },
     "execution_count": 543,
     "metadata": {},
     "output_type": "execute_result"
    }
   ],
   "source": [
    "nomes = pd.concat(lista)['nome'].to_frame()\n",
    "nomes.head()"
   ],
   "metadata": {
    "collapsed": false
   }
  },
  {
   "cell_type": "code",
   "execution_count": 544,
   "outputs": [
    {
     "data": {
      "text/plain": "       nome\n15    BRUNO\n13    BRUNA\n9    MARCOS\n4   ADRIANA\n6    MARCIA",
      "text/html": "<div>\n<style scoped>\n    .dataframe tbody tr th:only-of-type {\n        vertical-align: middle;\n    }\n\n    .dataframe tbody tr th {\n        vertical-align: top;\n    }\n\n    .dataframe thead th {\n        text-align: right;\n    }\n</style>\n<table border=\"1\" class=\"dataframe\">\n  <thead>\n    <tr style=\"text-align: right;\">\n      <th></th>\n      <th>nome</th>\n    </tr>\n  </thead>\n  <tbody>\n    <tr>\n      <th>15</th>\n      <td>BRUNO</td>\n    </tr>\n    <tr>\n      <th>13</th>\n      <td>BRUNA</td>\n    </tr>\n    <tr>\n      <th>9</th>\n      <td>MARCOS</td>\n    </tr>\n    <tr>\n      <th>4</th>\n      <td>ADRIANA</td>\n    </tr>\n    <tr>\n      <th>6</th>\n      <td>MARCIA</td>\n    </tr>\n  </tbody>\n</table>\n</div>"
     },
     "execution_count": 544,
     "metadata": {},
     "output_type": "execute_result"
    }
   ],
   "source": [
    "nomes.sample(5)"
   ],
   "metadata": {
    "collapsed": false
   }
  },
  {
   "cell_type": "markdown",
   "source": [
    "## Criando ID's aleatorios para os alunos"
   ],
   "metadata": {
    "collapsed": false
   }
  },
  {
   "cell_type": "code",
   "execution_count": 545,
   "outputs": [],
   "source": [
    "import numpy as np"
   ],
   "metadata": {
    "collapsed": false
   }
  },
  {
   "cell_type": "code",
   "execution_count": 546,
   "outputs": [],
   "source": [
    "np.random.seed(123)"
   ],
   "metadata": {
    "collapsed": false
   }
  },
  {
   "cell_type": "code",
   "execution_count": 547,
   "outputs": [
    {
     "data": {
      "text/plain": "40"
     },
     "execution_count": 547,
     "metadata": {},
     "output_type": "execute_result"
    }
   ],
   "source": [
    "len(nomes)"
   ],
   "metadata": {
    "collapsed": false
   }
  },
  {
   "cell_type": "code",
   "execution_count": 548,
   "outputs": [],
   "source": [
    "nomes['id_aluno'] = np.random.permutation(len(nomes))"
   ],
   "metadata": {
    "collapsed": false
   }
  },
  {
   "cell_type": "code",
   "execution_count": 549,
   "outputs": [
    {
     "data": {
      "text/plain": "         nome  id_aluno\n0       MARIA         6\n1         ANA        10\n2   FRANCISCA        12\n3     ANTONIA        38\n4     ADRIANA         5\n5     JULIANA        11\n6      MARCIA        23\n7    FERNANDA         1\n8    PATRICIA        13\n9       ALINE        20\n10     SANDRA         8\n11     CAMILA        37\n12     AMANDA        24\n13      BRUNA         7\n14    JESSICA        18\n15    LETICIA        39\n16      JULIA         3\n17    LUCIANA        31\n18    VANESSA        21\n19    MARIANA        16\n0        JOSE        25\n1        JOAO         4\n2     ANTONIO        26\n3   FRANCISCO        35\n4      CARLOS        29\n5       PAULO        27\n6       PEDRO        14\n7       LUCAS         0\n8        LUIZ         9\n9      MARCOS        15\n10       LUIS        30\n11    GABRIEL        36\n12     RAFAEL        32\n13     DANIEL        33\n14    MARCELO        22\n15      BRUNO        19\n16    EDUARDO        17\n17     FELIPE        34\n18   RAIMUNDO        28\n19    RODRIGO         2",
      "text/html": "<div>\n<style scoped>\n    .dataframe tbody tr th:only-of-type {\n        vertical-align: middle;\n    }\n\n    .dataframe tbody tr th {\n        vertical-align: top;\n    }\n\n    .dataframe thead th {\n        text-align: right;\n    }\n</style>\n<table border=\"1\" class=\"dataframe\">\n  <thead>\n    <tr style=\"text-align: right;\">\n      <th></th>\n      <th>nome</th>\n      <th>id_aluno</th>\n    </tr>\n  </thead>\n  <tbody>\n    <tr>\n      <th>0</th>\n      <td>MARIA</td>\n      <td>6</td>\n    </tr>\n    <tr>\n      <th>1</th>\n      <td>ANA</td>\n      <td>10</td>\n    </tr>\n    <tr>\n      <th>2</th>\n      <td>FRANCISCA</td>\n      <td>12</td>\n    </tr>\n    <tr>\n      <th>3</th>\n      <td>ANTONIA</td>\n      <td>38</td>\n    </tr>\n    <tr>\n      <th>4</th>\n      <td>ADRIANA</td>\n      <td>5</td>\n    </tr>\n    <tr>\n      <th>5</th>\n      <td>JULIANA</td>\n      <td>11</td>\n    </tr>\n    <tr>\n      <th>6</th>\n      <td>MARCIA</td>\n      <td>23</td>\n    </tr>\n    <tr>\n      <th>7</th>\n      <td>FERNANDA</td>\n      <td>1</td>\n    </tr>\n    <tr>\n      <th>8</th>\n      <td>PATRICIA</td>\n      <td>13</td>\n    </tr>\n    <tr>\n      <th>9</th>\n      <td>ALINE</td>\n      <td>20</td>\n    </tr>\n    <tr>\n      <th>10</th>\n      <td>SANDRA</td>\n      <td>8</td>\n    </tr>\n    <tr>\n      <th>11</th>\n      <td>CAMILA</td>\n      <td>37</td>\n    </tr>\n    <tr>\n      <th>12</th>\n      <td>AMANDA</td>\n      <td>24</td>\n    </tr>\n    <tr>\n      <th>13</th>\n      <td>BRUNA</td>\n      <td>7</td>\n    </tr>\n    <tr>\n      <th>14</th>\n      <td>JESSICA</td>\n      <td>18</td>\n    </tr>\n    <tr>\n      <th>15</th>\n      <td>LETICIA</td>\n      <td>39</td>\n    </tr>\n    <tr>\n      <th>16</th>\n      <td>JULIA</td>\n      <td>3</td>\n    </tr>\n    <tr>\n      <th>17</th>\n      <td>LUCIANA</td>\n      <td>31</td>\n    </tr>\n    <tr>\n      <th>18</th>\n      <td>VANESSA</td>\n      <td>21</td>\n    </tr>\n    <tr>\n      <th>19</th>\n      <td>MARIANA</td>\n      <td>16</td>\n    </tr>\n    <tr>\n      <th>0</th>\n      <td>JOSE</td>\n      <td>25</td>\n    </tr>\n    <tr>\n      <th>1</th>\n      <td>JOAO</td>\n      <td>4</td>\n    </tr>\n    <tr>\n      <th>2</th>\n      <td>ANTONIO</td>\n      <td>26</td>\n    </tr>\n    <tr>\n      <th>3</th>\n      <td>FRANCISCO</td>\n      <td>35</td>\n    </tr>\n    <tr>\n      <th>4</th>\n      <td>CARLOS</td>\n      <td>29</td>\n    </tr>\n    <tr>\n      <th>5</th>\n      <td>PAULO</td>\n      <td>27</td>\n    </tr>\n    <tr>\n      <th>6</th>\n      <td>PEDRO</td>\n      <td>14</td>\n    </tr>\n    <tr>\n      <th>7</th>\n      <td>LUCAS</td>\n      <td>0</td>\n    </tr>\n    <tr>\n      <th>8</th>\n      <td>LUIZ</td>\n      <td>9</td>\n    </tr>\n    <tr>\n      <th>9</th>\n      <td>MARCOS</td>\n      <td>15</td>\n    </tr>\n    <tr>\n      <th>10</th>\n      <td>LUIS</td>\n      <td>30</td>\n    </tr>\n    <tr>\n      <th>11</th>\n      <td>GABRIEL</td>\n      <td>36</td>\n    </tr>\n    <tr>\n      <th>12</th>\n      <td>RAFAEL</td>\n      <td>32</td>\n    </tr>\n    <tr>\n      <th>13</th>\n      <td>DANIEL</td>\n      <td>33</td>\n    </tr>\n    <tr>\n      <th>14</th>\n      <td>MARCELO</td>\n      <td>22</td>\n    </tr>\n    <tr>\n      <th>15</th>\n      <td>BRUNO</td>\n      <td>19</td>\n    </tr>\n    <tr>\n      <th>16</th>\n      <td>EDUARDO</td>\n      <td>17</td>\n    </tr>\n    <tr>\n      <th>17</th>\n      <td>FELIPE</td>\n      <td>34</td>\n    </tr>\n    <tr>\n      <th>18</th>\n      <td>RAIMUNDO</td>\n      <td>28</td>\n    </tr>\n    <tr>\n      <th>19</th>\n      <td>RODRIGO</td>\n      <td>2</td>\n    </tr>\n  </tbody>\n</table>\n</div>"
     },
     "execution_count": 549,
     "metadata": {},
     "output_type": "execute_result"
    }
   ],
   "source": [
    "nomes"
   ],
   "metadata": {
    "collapsed": false
   }
  },
  {
   "cell_type": "code",
   "execution_count": 550,
   "outputs": [],
   "source": [
    "dominios = ['@dominioemail.com.br', '@servicoemail.com']"
   ],
   "metadata": {
    "collapsed": false
   }
  },
  {
   "cell_type": "code",
   "execution_count": 551,
   "outputs": [
    {
     "data": {
      "text/plain": "         nome  id_aluno               dominio\n0       MARIA         6     @servicoemail.com\n1         ANA        10  @dominioemail.com.br\n2   FRANCISCA        12  @dominioemail.com.br\n3     ANTONIA        38     @servicoemail.com\n4     ADRIANA         5  @dominioemail.com.br\n5     JULIANA        11     @servicoemail.com\n6      MARCIA        23  @dominioemail.com.br\n7    FERNANDA         1  @dominioemail.com.br\n8    PATRICIA        13     @servicoemail.com\n9       ALINE        20  @dominioemail.com.br\n10     SANDRA         8     @servicoemail.com\n11     CAMILA        37  @dominioemail.com.br\n12     AMANDA        24     @servicoemail.com\n13      BRUNA         7  @dominioemail.com.br\n14    JESSICA        18  @dominioemail.com.br\n15    LETICIA        39  @dominioemail.com.br\n16      JULIA         3  @dominioemail.com.br\n17    LUCIANA        31     @servicoemail.com\n18    VANESSA        21  @dominioemail.com.br\n19    MARIANA        16  @dominioemail.com.br\n0        JOSE        25     @servicoemail.com\n1        JOAO         4     @servicoemail.com\n2     ANTONIO        26     @servicoemail.com\n3   FRANCISCO        35     @servicoemail.com\n4      CARLOS        29  @dominioemail.com.br\n5       PAULO        27  @dominioemail.com.br\n6       PEDRO        14  @dominioemail.com.br\n7       LUCAS         0  @dominioemail.com.br\n8        LUIZ         9     @servicoemail.com\n9      MARCOS        15     @servicoemail.com\n10       LUIS        30  @dominioemail.com.br\n11    GABRIEL        36  @dominioemail.com.br\n12     RAFAEL        32  @dominioemail.com.br\n13     DANIEL        33  @dominioemail.com.br\n14    MARCELO        22     @servicoemail.com\n15      BRUNO        19  @dominioemail.com.br\n16    EDUARDO        17     @servicoemail.com\n17     FELIPE        34     @servicoemail.com\n18   RAIMUNDO        28  @dominioemail.com.br\n19    RODRIGO         2     @servicoemail.com",
      "text/html": "<div>\n<style scoped>\n    .dataframe tbody tr th:only-of-type {\n        vertical-align: middle;\n    }\n\n    .dataframe tbody tr th {\n        vertical-align: top;\n    }\n\n    .dataframe thead th {\n        text-align: right;\n    }\n</style>\n<table border=\"1\" class=\"dataframe\">\n  <thead>\n    <tr style=\"text-align: right;\">\n      <th></th>\n      <th>nome</th>\n      <th>id_aluno</th>\n      <th>dominio</th>\n    </tr>\n  </thead>\n  <tbody>\n    <tr>\n      <th>0</th>\n      <td>MARIA</td>\n      <td>6</td>\n      <td>@servicoemail.com</td>\n    </tr>\n    <tr>\n      <th>1</th>\n      <td>ANA</td>\n      <td>10</td>\n      <td>@dominioemail.com.br</td>\n    </tr>\n    <tr>\n      <th>2</th>\n      <td>FRANCISCA</td>\n      <td>12</td>\n      <td>@dominioemail.com.br</td>\n    </tr>\n    <tr>\n      <th>3</th>\n      <td>ANTONIA</td>\n      <td>38</td>\n      <td>@servicoemail.com</td>\n    </tr>\n    <tr>\n      <th>4</th>\n      <td>ADRIANA</td>\n      <td>5</td>\n      <td>@dominioemail.com.br</td>\n    </tr>\n    <tr>\n      <th>5</th>\n      <td>JULIANA</td>\n      <td>11</td>\n      <td>@servicoemail.com</td>\n    </tr>\n    <tr>\n      <th>6</th>\n      <td>MARCIA</td>\n      <td>23</td>\n      <td>@dominioemail.com.br</td>\n    </tr>\n    <tr>\n      <th>7</th>\n      <td>FERNANDA</td>\n      <td>1</td>\n      <td>@dominioemail.com.br</td>\n    </tr>\n    <tr>\n      <th>8</th>\n      <td>PATRICIA</td>\n      <td>13</td>\n      <td>@servicoemail.com</td>\n    </tr>\n    <tr>\n      <th>9</th>\n      <td>ALINE</td>\n      <td>20</td>\n      <td>@dominioemail.com.br</td>\n    </tr>\n    <tr>\n      <th>10</th>\n      <td>SANDRA</td>\n      <td>8</td>\n      <td>@servicoemail.com</td>\n    </tr>\n    <tr>\n      <th>11</th>\n      <td>CAMILA</td>\n      <td>37</td>\n      <td>@dominioemail.com.br</td>\n    </tr>\n    <tr>\n      <th>12</th>\n      <td>AMANDA</td>\n      <td>24</td>\n      <td>@servicoemail.com</td>\n    </tr>\n    <tr>\n      <th>13</th>\n      <td>BRUNA</td>\n      <td>7</td>\n      <td>@dominioemail.com.br</td>\n    </tr>\n    <tr>\n      <th>14</th>\n      <td>JESSICA</td>\n      <td>18</td>\n      <td>@dominioemail.com.br</td>\n    </tr>\n    <tr>\n      <th>15</th>\n      <td>LETICIA</td>\n      <td>39</td>\n      <td>@dominioemail.com.br</td>\n    </tr>\n    <tr>\n      <th>16</th>\n      <td>JULIA</td>\n      <td>3</td>\n      <td>@dominioemail.com.br</td>\n    </tr>\n    <tr>\n      <th>17</th>\n      <td>LUCIANA</td>\n      <td>31</td>\n      <td>@servicoemail.com</td>\n    </tr>\n    <tr>\n      <th>18</th>\n      <td>VANESSA</td>\n      <td>21</td>\n      <td>@dominioemail.com.br</td>\n    </tr>\n    <tr>\n      <th>19</th>\n      <td>MARIANA</td>\n      <td>16</td>\n      <td>@dominioemail.com.br</td>\n    </tr>\n    <tr>\n      <th>0</th>\n      <td>JOSE</td>\n      <td>25</td>\n      <td>@servicoemail.com</td>\n    </tr>\n    <tr>\n      <th>1</th>\n      <td>JOAO</td>\n      <td>4</td>\n      <td>@servicoemail.com</td>\n    </tr>\n    <tr>\n      <th>2</th>\n      <td>ANTONIO</td>\n      <td>26</td>\n      <td>@servicoemail.com</td>\n    </tr>\n    <tr>\n      <th>3</th>\n      <td>FRANCISCO</td>\n      <td>35</td>\n      <td>@servicoemail.com</td>\n    </tr>\n    <tr>\n      <th>4</th>\n      <td>CARLOS</td>\n      <td>29</td>\n      <td>@dominioemail.com.br</td>\n    </tr>\n    <tr>\n      <th>5</th>\n      <td>PAULO</td>\n      <td>27</td>\n      <td>@dominioemail.com.br</td>\n    </tr>\n    <tr>\n      <th>6</th>\n      <td>PEDRO</td>\n      <td>14</td>\n      <td>@dominioemail.com.br</td>\n    </tr>\n    <tr>\n      <th>7</th>\n      <td>LUCAS</td>\n      <td>0</td>\n      <td>@dominioemail.com.br</td>\n    </tr>\n    <tr>\n      <th>8</th>\n      <td>LUIZ</td>\n      <td>9</td>\n      <td>@servicoemail.com</td>\n    </tr>\n    <tr>\n      <th>9</th>\n      <td>MARCOS</td>\n      <td>15</td>\n      <td>@servicoemail.com</td>\n    </tr>\n    <tr>\n      <th>10</th>\n      <td>LUIS</td>\n      <td>30</td>\n      <td>@dominioemail.com.br</td>\n    </tr>\n    <tr>\n      <th>11</th>\n      <td>GABRIEL</td>\n      <td>36</td>\n      <td>@dominioemail.com.br</td>\n    </tr>\n    <tr>\n      <th>12</th>\n      <td>RAFAEL</td>\n      <td>32</td>\n      <td>@dominioemail.com.br</td>\n    </tr>\n    <tr>\n      <th>13</th>\n      <td>DANIEL</td>\n      <td>33</td>\n      <td>@dominioemail.com.br</td>\n    </tr>\n    <tr>\n      <th>14</th>\n      <td>MARCELO</td>\n      <td>22</td>\n      <td>@servicoemail.com</td>\n    </tr>\n    <tr>\n      <th>15</th>\n      <td>BRUNO</td>\n      <td>19</td>\n      <td>@dominioemail.com.br</td>\n    </tr>\n    <tr>\n      <th>16</th>\n      <td>EDUARDO</td>\n      <td>17</td>\n      <td>@servicoemail.com</td>\n    </tr>\n    <tr>\n      <th>17</th>\n      <td>FELIPE</td>\n      <td>34</td>\n      <td>@servicoemail.com</td>\n    </tr>\n    <tr>\n      <th>18</th>\n      <td>RAIMUNDO</td>\n      <td>28</td>\n      <td>@dominioemail.com.br</td>\n    </tr>\n    <tr>\n      <th>19</th>\n      <td>RODRIGO</td>\n      <td>2</td>\n      <td>@servicoemail.com</td>\n    </tr>\n  </tbody>\n</table>\n</div>"
     },
     "execution_count": 551,
     "metadata": {},
     "output_type": "execute_result"
    }
   ],
   "source": [
    "nomes['dominio'] = np.random.choice(dominios, len(nomes))\n",
    "nomes"
   ],
   "metadata": {
    "collapsed": false
   }
  },
  {
   "cell_type": "code",
   "execution_count": 552,
   "outputs": [],
   "source": [
    "nomes['email'] = nomes.nome.str.cat(nomes.dominio).str.lower()"
   ],
   "metadata": {
    "collapsed": false
   }
  },
  {
   "cell_type": "code",
   "execution_count": 553,
   "outputs": [
    {
     "data": {
      "text/plain": "       nome  id_aluno               dominio                      email\n0     MARIA         6     @servicoemail.com     maria@servicoemail.com\n5   JULIANA        11     @servicoemail.com   juliana@servicoemail.com\n10   SANDRA         8     @servicoemail.com    sandra@servicoemail.com\n14  MARCELO        22     @servicoemail.com   marcelo@servicoemail.com\n13    BRUNA         7  @dominioemail.com.br  bruna@dominioemail.com.br",
      "text/html": "<div>\n<style scoped>\n    .dataframe tbody tr th:only-of-type {\n        vertical-align: middle;\n    }\n\n    .dataframe tbody tr th {\n        vertical-align: top;\n    }\n\n    .dataframe thead th {\n        text-align: right;\n    }\n</style>\n<table border=\"1\" class=\"dataframe\">\n  <thead>\n    <tr style=\"text-align: right;\">\n      <th></th>\n      <th>nome</th>\n      <th>id_aluno</th>\n      <th>dominio</th>\n      <th>email</th>\n    </tr>\n  </thead>\n  <tbody>\n    <tr>\n      <th>0</th>\n      <td>MARIA</td>\n      <td>6</td>\n      <td>@servicoemail.com</td>\n      <td>maria@servicoemail.com</td>\n    </tr>\n    <tr>\n      <th>5</th>\n      <td>JULIANA</td>\n      <td>11</td>\n      <td>@servicoemail.com</td>\n      <td>juliana@servicoemail.com</td>\n    </tr>\n    <tr>\n      <th>10</th>\n      <td>SANDRA</td>\n      <td>8</td>\n      <td>@servicoemail.com</td>\n      <td>sandra@servicoemail.com</td>\n    </tr>\n    <tr>\n      <th>14</th>\n      <td>MARCELO</td>\n      <td>22</td>\n      <td>@servicoemail.com</td>\n      <td>marcelo@servicoemail.com</td>\n    </tr>\n    <tr>\n      <th>13</th>\n      <td>BRUNA</td>\n      <td>7</td>\n      <td>@dominioemail.com.br</td>\n      <td>bruna@dominioemail.com.br</td>\n    </tr>\n  </tbody>\n</table>\n</div>"
     },
     "execution_count": 553,
     "metadata": {},
     "output_type": "execute_result"
    }
   ],
   "source": [
    "nomes.sample(5)"
   ],
   "metadata": {
    "collapsed": false
   }
  },
  {
   "cell_type": "markdown",
   "source": [
    "# Criando tabela de Cursos"
   ],
   "metadata": {
    "collapsed": false
   }
  },
  {
   "cell_type": "code",
   "execution_count": 554,
   "outputs": [
    {
     "data": {
      "text/plain": "                 Nome do curso\n4             Cursos de Python\n2                  C# para Web\n7   Novas integrações com Java\n18       Boas práticas em Java\n9          Código limpo com C#",
      "text/html": "<div>\n<style scoped>\n    .dataframe tbody tr th:only-of-type {\n        vertical-align: middle;\n    }\n\n    .dataframe tbody tr th {\n        vertical-align: top;\n    }\n\n    .dataframe thead th {\n        text-align: right;\n    }\n</style>\n<table border=\"1\" class=\"dataframe\">\n  <thead>\n    <tr style=\"text-align: right;\">\n      <th></th>\n      <th>Nome do curso</th>\n    </tr>\n  </thead>\n  <tbody>\n    <tr>\n      <th>4</th>\n      <td>Cursos de Python</td>\n    </tr>\n    <tr>\n      <th>2</th>\n      <td>C# para Web</td>\n    </tr>\n    <tr>\n      <th>7</th>\n      <td>Novas integrações com Java</td>\n    </tr>\n    <tr>\n      <th>18</th>\n      <td>Boas práticas em Java</td>\n    </tr>\n    <tr>\n      <th>9</th>\n      <td>Código limpo com C#</td>\n    </tr>\n  </tbody>\n</table>\n</div>"
     },
     "execution_count": 554,
     "metadata": {},
     "output_type": "execute_result"
    }
   ],
   "source": [
    "cursos = pd.read_html('http://tabela-cursos.herokuapp.com/index.html')\n",
    "cursos = cursos[0]\n",
    "cursos.sample(5)"
   ],
   "metadata": {
    "collapsed": false
   }
  },
  {
   "cell_type": "code",
   "execution_count": 555,
   "outputs": [
    {
     "data": {
      "text/plain": "            nome_do_curso\n14       Análise de dados\n2             C# para Web\n13    Desenvolvendo jogos\n5           PHP com MySql\n17  Programação funcional",
      "text/html": "<div>\n<style scoped>\n    .dataframe tbody tr th:only-of-type {\n        vertical-align: middle;\n    }\n\n    .dataframe tbody tr th {\n        vertical-align: top;\n    }\n\n    .dataframe thead th {\n        text-align: right;\n    }\n</style>\n<table border=\"1\" class=\"dataframe\">\n  <thead>\n    <tr style=\"text-align: right;\">\n      <th></th>\n      <th>nome_do_curso</th>\n    </tr>\n  </thead>\n  <tbody>\n    <tr>\n      <th>14</th>\n      <td>Análise de dados</td>\n    </tr>\n    <tr>\n      <th>2</th>\n      <td>C# para Web</td>\n    </tr>\n    <tr>\n      <th>13</th>\n      <td>Desenvolvendo jogos</td>\n    </tr>\n    <tr>\n      <th>5</th>\n      <td>PHP com MySql</td>\n    </tr>\n    <tr>\n      <th>17</th>\n      <td>Programação funcional</td>\n    </tr>\n  </tbody>\n</table>\n</div>"
     },
     "execution_count": 555,
     "metadata": {},
     "output_type": "execute_result"
    }
   ],
   "source": [
    "cursos.rename(columns={'Nome do curso': 'nome_do_curso'}, inplace=True)\n",
    "cursos.sample(5)"
   ],
   "metadata": {
    "collapsed": false
   }
  },
  {
   "cell_type": "code",
   "execution_count": 556,
   "outputs": [],
   "source": [
    "cursos['id_cursos'] = cursos.index + 1"
   ],
   "metadata": {
    "collapsed": false
   }
  },
  {
   "cell_type": "code",
   "execution_count": 557,
   "outputs": [
    {
     "data": {
      "text/plain": "            nome_do_curso  id_cursos\n2             C# para Web          3\n0   Lógica de programação          1\n18  Boas práticas em Java         19\n12  Persistência com .NET         13\n3           Ruby on Rails          4",
      "text/html": "<div>\n<style scoped>\n    .dataframe tbody tr th:only-of-type {\n        vertical-align: middle;\n    }\n\n    .dataframe tbody tr th {\n        vertical-align: top;\n    }\n\n    .dataframe thead th {\n        text-align: right;\n    }\n</style>\n<table border=\"1\" class=\"dataframe\">\n  <thead>\n    <tr style=\"text-align: right;\">\n      <th></th>\n      <th>nome_do_curso</th>\n      <th>id_cursos</th>\n    </tr>\n  </thead>\n  <tbody>\n    <tr>\n      <th>2</th>\n      <td>C# para Web</td>\n      <td>3</td>\n    </tr>\n    <tr>\n      <th>0</th>\n      <td>Lógica de programação</td>\n      <td>1</td>\n    </tr>\n    <tr>\n      <th>18</th>\n      <td>Boas práticas em Java</td>\n      <td>19</td>\n    </tr>\n    <tr>\n      <th>12</th>\n      <td>Persistência com .NET</td>\n      <td>13</td>\n    </tr>\n    <tr>\n      <th>3</th>\n      <td>Ruby on Rails</td>\n      <td>4</td>\n    </tr>\n  </tbody>\n</table>\n</div>"
     },
     "execution_count": 557,
     "metadata": {},
     "output_type": "execute_result"
    }
   ],
   "source": [
    "cursos.sample(5)"
   ],
   "metadata": {
    "collapsed": false
   }
  },
  {
   "cell_type": "code",
   "execution_count": 558,
   "outputs": [
    {
     "data": {
      "text/plain": "                   nome_do_curso\nid_cursos                       \n5               Cursos de Python\n1          Lógica de programação\n7                  .NET para web\n16            Estatística básica\n12               Hardware básico",
      "text/html": "<div>\n<style scoped>\n    .dataframe tbody tr th:only-of-type {\n        vertical-align: middle;\n    }\n\n    .dataframe tbody tr th {\n        vertical-align: top;\n    }\n\n    .dataframe thead th {\n        text-align: right;\n    }\n</style>\n<table border=\"1\" class=\"dataframe\">\n  <thead>\n    <tr style=\"text-align: right;\">\n      <th></th>\n      <th>nome_do_curso</th>\n    </tr>\n    <tr>\n      <th>id_cursos</th>\n      <th></th>\n    </tr>\n  </thead>\n  <tbody>\n    <tr>\n      <th>5</th>\n      <td>Cursos de Python</td>\n    </tr>\n    <tr>\n      <th>1</th>\n      <td>Lógica de programação</td>\n    </tr>\n    <tr>\n      <th>7</th>\n      <td>.NET para web</td>\n    </tr>\n    <tr>\n      <th>16</th>\n      <td>Estatística básica</td>\n    </tr>\n    <tr>\n      <th>12</th>\n      <td>Hardware básico</td>\n    </tr>\n  </tbody>\n</table>\n</div>"
     },
     "execution_count": 558,
     "metadata": {},
     "output_type": "execute_result"
    }
   ],
   "source": [
    "cursos.set_index('id_cursos', inplace=True)\n",
    "cursos.sample(5)"
   ],
   "metadata": {
    "collapsed": false
   }
  },
  {
   "cell_type": "markdown",
   "source": [
    "## Matriculando os alunos nos cursos"
   ],
   "metadata": {
    "collapsed": false
   }
  },
  {
   "cell_type": "code",
   "execution_count": 559,
   "outputs": [
    {
     "data": {
      "text/plain": "        nome  id_aluno               dominio                          email\n0      MARIA         6     @servicoemail.com         maria@servicoemail.com\n1        ANA        10  @dominioemail.com.br        ana@dominioemail.com.br\n2  FRANCISCA        12  @dominioemail.com.br  francisca@dominioemail.com.br\n3    ANTONIA        38     @servicoemail.com       antonia@servicoemail.com\n4    ADRIANA         5  @dominioemail.com.br    adriana@dominioemail.com.br",
      "text/html": "<div>\n<style scoped>\n    .dataframe tbody tr th:only-of-type {\n        vertical-align: middle;\n    }\n\n    .dataframe tbody tr th {\n        vertical-align: top;\n    }\n\n    .dataframe thead th {\n        text-align: right;\n    }\n</style>\n<table border=\"1\" class=\"dataframe\">\n  <thead>\n    <tr style=\"text-align: right;\">\n      <th></th>\n      <th>nome</th>\n      <th>id_aluno</th>\n      <th>dominio</th>\n      <th>email</th>\n    </tr>\n  </thead>\n  <tbody>\n    <tr>\n      <th>0</th>\n      <td>MARIA</td>\n      <td>6</td>\n      <td>@servicoemail.com</td>\n      <td>maria@servicoemail.com</td>\n    </tr>\n    <tr>\n      <th>1</th>\n      <td>ANA</td>\n      <td>10</td>\n      <td>@dominioemail.com.br</td>\n      <td>ana@dominioemail.com.br</td>\n    </tr>\n    <tr>\n      <th>2</th>\n      <td>FRANCISCA</td>\n      <td>12</td>\n      <td>@dominioemail.com.br</td>\n      <td>francisca@dominioemail.com.br</td>\n    </tr>\n    <tr>\n      <th>3</th>\n      <td>ANTONIA</td>\n      <td>38</td>\n      <td>@servicoemail.com</td>\n      <td>antonia@servicoemail.com</td>\n    </tr>\n    <tr>\n      <th>4</th>\n      <td>ADRIANA</td>\n      <td>5</td>\n      <td>@dominioemail.com.br</td>\n      <td>adriana@dominioemail.com.br</td>\n    </tr>\n  </tbody>\n</table>\n</div>"
     },
     "execution_count": 559,
     "metadata": {},
     "output_type": "execute_result"
    }
   ],
   "source": [
    "nomes.head()"
   ],
   "metadata": {
    "collapsed": false
   }
  },
  {
   "cell_type": "code",
   "execution_count": 560,
   "outputs": [],
   "source": [
    "nomes['matriculas'] = np.ceil(np.random.exponential(size=len(nomes)) * 1.5).astype(int)"
   ],
   "metadata": {
    "collapsed": false
   }
  },
  {
   "cell_type": "code",
   "execution_count": 561,
   "outputs": [
    {
     "data": {
      "text/plain": "        nome  id_aluno               dominio                          email  \\\n0      MARIA         6     @servicoemail.com         maria@servicoemail.com   \n1        ANA        10  @dominioemail.com.br        ana@dominioemail.com.br   \n2  FRANCISCA        12  @dominioemail.com.br  francisca@dominioemail.com.br   \n3    ANTONIA        38     @servicoemail.com       antonia@servicoemail.com   \n4    ADRIANA         5  @dominioemail.com.br    adriana@dominioemail.com.br   \n\n   matriculas  \n0           3  \n1           1  \n2           2  \n3           1  \n4           2  ",
      "text/html": "<div>\n<style scoped>\n    .dataframe tbody tr th:only-of-type {\n        vertical-align: middle;\n    }\n\n    .dataframe tbody tr th {\n        vertical-align: top;\n    }\n\n    .dataframe thead th {\n        text-align: right;\n    }\n</style>\n<table border=\"1\" class=\"dataframe\">\n  <thead>\n    <tr style=\"text-align: right;\">\n      <th></th>\n      <th>nome</th>\n      <th>id_aluno</th>\n      <th>dominio</th>\n      <th>email</th>\n      <th>matriculas</th>\n    </tr>\n  </thead>\n  <tbody>\n    <tr>\n      <th>0</th>\n      <td>MARIA</td>\n      <td>6</td>\n      <td>@servicoemail.com</td>\n      <td>maria@servicoemail.com</td>\n      <td>3</td>\n    </tr>\n    <tr>\n      <th>1</th>\n      <td>ANA</td>\n      <td>10</td>\n      <td>@dominioemail.com.br</td>\n      <td>ana@dominioemail.com.br</td>\n      <td>1</td>\n    </tr>\n    <tr>\n      <th>2</th>\n      <td>FRANCISCA</td>\n      <td>12</td>\n      <td>@dominioemail.com.br</td>\n      <td>francisca@dominioemail.com.br</td>\n      <td>2</td>\n    </tr>\n    <tr>\n      <th>3</th>\n      <td>ANTONIA</td>\n      <td>38</td>\n      <td>@servicoemail.com</td>\n      <td>antonia@servicoemail.com</td>\n      <td>1</td>\n    </tr>\n    <tr>\n      <th>4</th>\n      <td>ADRIANA</td>\n      <td>5</td>\n      <td>@dominioemail.com.br</td>\n      <td>adriana@dominioemail.com.br</td>\n      <td>2</td>\n    </tr>\n  </tbody>\n</table>\n</div>"
     },
     "execution_count": 561,
     "metadata": {},
     "output_type": "execute_result"
    }
   ],
   "source": [
    "nomes.head()"
   ],
   "metadata": {
    "collapsed": false
   }
  },
  {
   "cell_type": "code",
   "execution_count": 562,
   "outputs": [
    {
     "data": {
      "text/plain": "count    40.000000\nmean      2.050000\nstd       1.299901\nmin       1.000000\n25%       1.000000\n50%       2.000000\n75%       3.000000\nmax       7.000000\nName: matriculas, dtype: float64"
     },
     "execution_count": 562,
     "metadata": {},
     "output_type": "execute_result"
    }
   ],
   "source": [
    "nomes.matriculas.describe()"
   ],
   "metadata": {
    "collapsed": false
   }
  },
  {
   "cell_type": "code",
   "execution_count": 563,
   "outputs": [],
   "source": [
    "import seaborn as sns"
   ],
   "metadata": {
    "collapsed": false
   }
  },
  {
   "cell_type": "code",
   "execution_count": 564,
   "outputs": [
    {
     "name": "stderr",
     "output_type": "stream",
     "text": [
      "C:\\Users\\walas\\anaconda3\\lib\\site-packages\\seaborn\\distributions.py:2619: FutureWarning: `distplot` is a deprecated function and will be removed in a future version. Please adapt your code to use either `displot` (a figure-level function with similar flexibility) or `histplot` (an axes-level function for histograms).\n",
      "  warnings.warn(msg, FutureWarning)\n"
     ]
    },
    {
     "data": {
      "text/plain": "<AxesSubplot:xlabel='matriculas', ylabel='Density'>"
     },
     "execution_count": 564,
     "metadata": {},
     "output_type": "execute_result"
    },
    {
     "data": {
      "text/plain": "<Figure size 432x288 with 1 Axes>",
      "image/png": "[encoded data removed]"
     },
     "metadata": {
      "needs_background": "light"
     },
     "output_type": "display_data"
    }
   ],
   "source": [
    "sns.distplot(nomes.matriculas)"
   ],
   "metadata": {
    "collapsed": false
   }
  },
  {
   "cell_type": "code",
   "execution_count": 565,
   "outputs": [
    {
     "data": {
      "text/plain": "1    18\n2    10\n3     7\n4     4\n7     1\nName: matriculas, dtype: int64"
     },
     "execution_count": 565,
     "metadata": {},
     "output_type": "execute_result"
    }
   ],
   "source": [
    "nomes.matriculas.value_counts()"
   ],
   "metadata": {
    "collapsed": false
   }
  },
  {
   "cell_type": "markdown",
   "source": [
    "## Selecionando Cursos por aluno"
   ],
   "metadata": {
    "collapsed": false
   }
  },
  {
   "cell_type": "code",
   "execution_count": 566,
   "outputs": [],
   "source": [
    "todas_matriculas = []\n",
    "x = np.random.rand(20)\n",
    "prob = x / sum(x)"
   ],
   "metadata": {
    "collapsed": false
   }
  },
  {
   "cell_type": "code",
   "execution_count": 567,
   "outputs": [],
   "source": [
    "for index, row in nomes.iterrows():\n",
    "    id = row.id_aluno\n",
    "    matriculas = row.matriculas\n",
    "    for i in range(matriculas):\n",
    "        mat = [id, np.random.choice(cursos.index, p = prob)]\n",
    "        todas_matriculas.append(mat)"
   ],
   "metadata": {
    "collapsed": false
   }
  },
  {
   "cell_type": "code",
   "execution_count": 568,
   "outputs": [
    {
     "data": {
      "text/plain": "   id_aluno  id_curso\n0         6        18\n1         6        12\n2         6         3\n3        10        15\n4        12         6",
      "text/html": "<div>\n<style scoped>\n    .dataframe tbody tr th:only-of-type {\n        vertical-align: middle;\n    }\n\n    .dataframe tbody tr th {\n        vertical-align: top;\n    }\n\n    .dataframe thead th {\n        text-align: right;\n    }\n</style>\n<table border=\"1\" class=\"dataframe\">\n  <thead>\n    <tr style=\"text-align: right;\">\n      <th></th>\n      <th>id_aluno</th>\n      <th>id_curso</th>\n    </tr>\n  </thead>\n  <tbody>\n    <tr>\n      <th>0</th>\n      <td>6</td>\n      <td>18</td>\n    </tr>\n    <tr>\n      <th>1</th>\n      <td>6</td>\n      <td>12</td>\n    </tr>\n    <tr>\n      <th>2</th>\n      <td>6</td>\n      <td>3</td>\n    </tr>\n    <tr>\n      <th>3</th>\n      <td>10</td>\n      <td>15</td>\n    </tr>\n    <tr>\n      <th>4</th>\n      <td>12</td>\n      <td>6</td>\n    </tr>\n  </tbody>\n</table>\n</div>"
     },
     "execution_count": 568,
     "metadata": {},
     "output_type": "execute_result"
    }
   ],
   "source": [
    "matriculas = pd.DataFrame(todas_matriculas, columns = ['id_aluno', 'id_curso'])\n",
    "matriculas.head(5)"
   ],
   "metadata": {
    "collapsed": false
   }
  },
  {
   "cell_type": "code",
   "execution_count": 569,
   "outputs": [],
   "source": [
    "matriculas_por_curso = matriculas.groupby('id_curso').count().join(cursos['nome_do_curso']).rename(columns={'id_aluno':'quantidade_de_alunos'})"
   ],
   "metadata": {
    "collapsed": false
   }
  },
  {
   "cell_type": "code",
   "execution_count": 570,
   "outputs": [
    {
     "data": {
      "text/plain": "          quantidade_de_alunos                        nome_do_curso\nid_curso                                                           \n1                            9                Lógica de programação\n2                            6                        Java para Web\n3                            6                          C# para Web\n5                            9                     Cursos de Python\n6                            5                        PHP com MySql\n7                           11                        .NET para web\n8                            1           Novas integrações com Java\n9                            1                         TDD com Java\n11                           3  Preparatório para certificação Java\n12                           1                      Hardware básico\n13                           7                Persistência com .NET\n15                           3                     Análise de dados\n16                           6                   Estatística básica\n17                           2                  Internet das coisas\n18                           5                Programação funcional\n20                           7          Orientação objetos com Java",
      "text/html": "<div>\n<style scoped>\n    .dataframe tbody tr th:only-of-type {\n        vertical-align: middle;\n    }\n\n    .dataframe tbody tr th {\n        vertical-align: top;\n    }\n\n    .dataframe thead th {\n        text-align: right;\n    }\n</style>\n<table border=\"1\" class=\"dataframe\">\n  <thead>\n    <tr style=\"text-align: right;\">\n      <th></th>\n      <th>quantidade_de_alunos</th>\n      <th>nome_do_curso</th>\n    </tr>\n    <tr>\n      <th>id_curso</th>\n      <th></th>\n      <th></th>\n    </tr>\n  </thead>\n  <tbody>\n    <tr>\n      <th>1</th>\n      <td>9</td>\n      <td>Lógica de programação</td>\n    </tr>\n    <tr>\n      <th>2</th>\n      <td>6</td>\n      <td>Java para Web</td>\n    </tr>\n    <tr>\n      <th>3</th>\n      <td>6</td>\n      <td>C# para Web</td>\n    </tr>\n    <tr>\n      <th>5</th>\n      <td>9</td>\n      <td>Cursos de Python</td>\n    </tr>\n    <tr>\n      <th>6</th>\n      <td>5</td>\n      <td>PHP com MySql</td>\n    </tr>\n    <tr>\n      <th>7</th>\n      <td>11</td>\n      <td>.NET para web</td>\n    </tr>\n    <tr>\n      <th>8</th>\n      <td>1</td>\n      <td>Novas integrações com Java</td>\n    </tr>\n    <tr>\n      <th>9</th>\n      <td>1</td>\n      <td>TDD com Java</td>\n    </tr>\n    <tr>\n      <th>11</th>\n      <td>3</td>\n      <td>Preparatório para certificação Java</td>\n    </tr>\n    <tr>\n      <th>12</th>\n      <td>1</td>\n      <td>Hardware básico</td>\n    </tr>\n    <tr>\n      <th>13</th>\n      <td>7</td>\n      <td>Persistência com .NET</td>\n    </tr>\n    <tr>\n      <th>15</th>\n      <td>3</td>\n      <td>Análise de dados</td>\n    </tr>\n    <tr>\n      <th>16</th>\n      <td>6</td>\n      <td>Estatística básica</td>\n    </tr>\n    <tr>\n      <th>17</th>\n      <td>2</td>\n      <td>Internet das coisas</td>\n    </tr>\n    <tr>\n      <th>18</th>\n      <td>5</td>\n      <td>Programação funcional</td>\n    </tr>\n    <tr>\n      <th>20</th>\n      <td>7</td>\n      <td>Orientação objetos com Java</td>\n    </tr>\n  </tbody>\n</table>\n</div>"
     },
     "execution_count": 570,
     "metadata": {},
     "output_type": "execute_result"
    }
   ],
   "source": [
    "matriculas_por_curso"
   ],
   "metadata": {
    "collapsed": false
   }
  },
  {
   "cell_type": "code",
   "execution_count": 571,
   "outputs": [],
   "source": [
    "matriculas_por_curso.to_csv('matriculas_por_curso.csv', sep=';')"
   ],
   "metadata": {
    "collapsed": false
   }
  },
  {
   "cell_type": "markdown",
   "source": [
    "## Lidando com banco de dados SQL"
   ],
   "metadata": {
    "collapsed": false
   }
  },
  {
   "cell_type": "code",
   "execution_count": 572,
   "outputs": [
    {
     "name": "stdout",
     "output_type": "stream",
     "text": [
      "Requirement already satisfied: sqlalchemy in c:\\users\\walas\\anaconda3\\lib\\site-packages (1.4.32)\n",
      "Requirement already satisfied: greenlet!=0.4.17 in c:\\users\\walas\\anaconda3\\lib\\site-packages (from sqlalchemy) (1.1.1)\n"
     ]
    }
   ],
   "source": [
    "!pip install sqlalchemy"
   ],
   "metadata": {
    "collapsed": false
   }
  },
  {
   "cell_type": "code",
   "execution_count": 573,
   "outputs": [],
   "source": [
    "from sqlalchemy import create_engine, MetaData, Table"
   ],
   "metadata": {
    "collapsed": false
   }
  },
  {
   "cell_type": "code",
   "execution_count": 574,
   "outputs": [],
   "source": [
    "engine = create_engine('sqlite:///:memory:')"
   ],
   "metadata": {
    "collapsed": false
   }
  },
  {
   "cell_type": "code",
   "execution_count": 575,
   "outputs": [
    {
     "data": {
      "text/plain": "sqlalchemy.engine.base.Engine"
     },
     "execution_count": 575,
     "metadata": {},
     "output_type": "execute_result"
    }
   ],
   "source": [
    "type(engine)"
   ],
   "metadata": {
    "collapsed": false
   }
  },
  {
   "cell_type": "code",
   "execution_count": 576,
   "outputs": [
    {
     "data": {
      "text/plain": "16"
     },
     "execution_count": 576,
     "metadata": {},
     "output_type": "execute_result"
    }
   ],
   "source": [
    "matriculas_por_curso.to_sql('matriculas_por_curso', engine)"
   ],
   "metadata": {
    "collapsed": false
   }
  },
  {
   "cell_type": "code",
   "execution_count": 577,
   "outputs": [
    {
     "name": "stderr",
     "output_type": "stream",
     "text": [
      "C:\\Users\\walas\\AppData\\Local\\Temp\\ipykernel_2316\\509743474.py:1: SADeprecationWarning: The Engine.table_names() method is deprecated and will be removed in a future release.  Please refer to Inspector.get_table_names(). (deprecated since: 1.4)\n",
      "  engine.table_names()\n"
     ]
    },
    {
     "data": {
      "text/plain": "['matriculas_por_curso']"
     },
     "execution_count": 577,
     "metadata": {},
     "output_type": "execute_result"
    }
   ],
   "source": [
    "engine.table_names()"
   ],
   "metadata": {
    "collapsed": false
   }
  },
  {
   "cell_type": "markdown",
   "source": [
    "## Query SQL"
   ],
   "metadata": {
    "collapsed": false
   }
  },
  {
   "cell_type": "code",
   "execution_count": 578,
   "outputs": [],
   "source": [
    "query_sql = 'select * from matriculas_por_curso where quantidade_de_alunos < 10'"
   ],
   "metadata": {
    "collapsed": false
   }
  },
  {
   "cell_type": "code",
   "execution_count": 579,
   "outputs": [
    {
     "data": {
      "text/plain": "    id_curso  quantidade_de_alunos                        nome_do_curso\n0          1                     9                Lógica de programação\n1          2                     6                        Java para Web\n2          3                     6                          C# para Web\n3          5                     9                     Cursos de Python\n4          6                     5                        PHP com MySql\n5          8                     1           Novas integrações com Java\n6          9                     1                         TDD com Java\n7         11                     3  Preparatório para certificação Java\n8         12                     1                      Hardware básico\n9         13                     7                Persistência com .NET\n10        15                     3                     Análise de dados\n11        16                     6                   Estatística básica\n12        17                     2                  Internet das coisas\n13        18                     5                Programação funcional\n14        20                     7          Orientação objetos com Java",
      "text/html": "<div>\n<style scoped>\n    .dataframe tbody tr th:only-of-type {\n        vertical-align: middle;\n    }\n\n    .dataframe tbody tr th {\n        vertical-align: top;\n    }\n\n    .dataframe thead th {\n        text-align: right;\n    }\n</style>\n<table border=\"1\" class=\"dataframe\">\n  <thead>\n    <tr style=\"text-align: right;\">\n      <th></th>\n      <th>id_curso</th>\n      <th>quantidade_de_alunos</th>\n      <th>nome_do_curso</th>\n    </tr>\n  </thead>\n  <tbody>\n    <tr>\n      <th>0</th>\n      <td>1</td>\n      <td>9</td>\n      <td>Lógica de programação</td>\n    </tr>\n    <tr>\n      <th>1</th>\n      <td>2</td>\n      <td>6</td>\n      <td>Java para Web</td>\n    </tr>\n    <tr>\n      <th>2</th>\n      <td>3</td>\n      <td>6</td>\n      <td>C# para Web</td>\n    </tr>\n    <tr>\n      <th>3</th>\n      <td>5</td>\n      <td>9</td>\n      <td>Cursos de Python</td>\n    </tr>\n    <tr>\n      <th>4</th>\n      <td>6</td>\n      <td>5</td>\n      <td>PHP com MySql</td>\n    </tr>\n    <tr>\n      <th>5</th>\n      <td>8</td>\n      <td>1</td>\n      <td>Novas integrações com Java</td>\n    </tr>\n    <tr>\n      <th>6</th>\n      <td>9</td>\n      <td>1</td>\n      <td>TDD com Java</td>\n    </tr>\n    <tr>\n      <th>7</th>\n      <td>11</td>\n      <td>3</td>\n      <td>Preparatório para certificação Java</td>\n    </tr>\n    <tr>\n      <th>8</th>\n      <td>12</td>\n      <td>1</td>\n      <td>Hardware básico</td>\n    </tr>\n    <tr>\n      <th>9</th>\n      <td>13</td>\n      <td>7</td>\n      <td>Persistência com .NET</td>\n    </tr>\n    <tr>\n      <th>10</th>\n      <td>15</td>\n      <td>3</td>\n      <td>Análise de dados</td>\n    </tr>\n    <tr>\n      <th>11</th>\n      <td>16</td>\n      <td>6</td>\n      <td>Estatística básica</td>\n    </tr>\n    <tr>\n      <th>12</th>\n      <td>17</td>\n      <td>2</td>\n      <td>Internet das coisas</td>\n    </tr>\n    <tr>\n      <th>13</th>\n      <td>18</td>\n      <td>5</td>\n      <td>Programação funcional</td>\n    </tr>\n    <tr>\n      <th>14</th>\n      <td>20</td>\n      <td>7</td>\n      <td>Orientação objetos com Java</td>\n    </tr>\n  </tbody>\n</table>\n</div>"
     },
     "execution_count": 579,
     "metadata": {},
     "output_type": "execute_result"
    }
   ],
   "source": [
    "pd.read_sql(query_sql, engine)"
   ],
   "metadata": {
    "collapsed": false
   }
  },
  {
   "cell_type": "code",
   "execution_count": 580,
   "outputs": [],
   "source": [
    "muitas_matriculas = pd.read_sql(query_sql, engine)"
   ],
   "metadata": {
    "collapsed": false
   }
  },
  {
   "cell_type": "code",
   "execution_count": 581,
   "outputs": [
    {
     "data": {
      "text/plain": "    id_curso  quantidade_de_alunos                nome_do_curso\n0          1                     9        Lógica de programação\n1          2                     6                Java para Web\n2          3                     6                  C# para Web\n3          5                     9             Cursos de Python\n9         13                     7        Persistência com .NET\n11        16                     6           Estatística básica\n14        20                     7  Orientação objetos com Java",
      "text/html": "<div>\n<style scoped>\n    .dataframe tbody tr th:only-of-type {\n        vertical-align: middle;\n    }\n\n    .dataframe tbody tr th {\n        vertical-align: top;\n    }\n\n    .dataframe thead th {\n        text-align: right;\n    }\n</style>\n<table border=\"1\" class=\"dataframe\">\n  <thead>\n    <tr style=\"text-align: right;\">\n      <th></th>\n      <th>id_curso</th>\n      <th>quantidade_de_alunos</th>\n      <th>nome_do_curso</th>\n    </tr>\n  </thead>\n  <tbody>\n    <tr>\n      <th>0</th>\n      <td>1</td>\n      <td>9</td>\n      <td>Lógica de programação</td>\n    </tr>\n    <tr>\n      <th>1</th>\n      <td>2</td>\n      <td>6</td>\n      <td>Java para Web</td>\n    </tr>\n    <tr>\n      <th>2</th>\n      <td>3</td>\n      <td>6</td>\n      <td>C# para Web</td>\n    </tr>\n    <tr>\n      <th>3</th>\n      <td>5</td>\n      <td>9</td>\n      <td>Cursos de Python</td>\n    </tr>\n    <tr>\n      <th>9</th>\n      <td>13</td>\n      <td>7</td>\n      <td>Persistência com .NET</td>\n    </tr>\n    <tr>\n      <th>11</th>\n      <td>16</td>\n      <td>6</td>\n      <td>Estatística básica</td>\n    </tr>\n    <tr>\n      <th>14</th>\n      <td>20</td>\n      <td>7</td>\n      <td>Orientação objetos com Java</td>\n    </tr>\n  </tbody>\n</table>\n</div>"
     },
     "execution_count": 581,
     "metadata": {},
     "output_type": "execute_result"
    }
   ],
   "source": [
    "muitas_matriculas = muitas_matriculas.query('quantidade_de_alunos > 5')\n",
    "muitas_matriculas"
   ],
   "metadata": {
    "collapsed": false
   }
  },
  {
   "cell_type": "code",
   "execution_count": 582,
   "outputs": [
    {
     "data": {
      "text/plain": "7"
     },
     "execution_count": 582,
     "metadata": {},
     "output_type": "execute_result"
    }
   ],
   "source": [
    "muitas_matriculas.to_sql('muitas_matriculas', con=engine)"
   ],
   "metadata": {
    "collapsed": false
   }
  },
  {
   "cell_type": "markdown",
   "source": [
    "## Proximas turmas do curso"
   ],
   "metadata": {
    "collapsed": false
   }
  },
  {
   "cell_type": "code",
   "execution_count": 583,
   "outputs": [
    {
     "data": {
      "text/plain": "   id_aluno  id_curso\n0         6        18\n1         6        12\n2         6         3\n3        10        15\n4        12         6",
      "text/html": "<div>\n<style scoped>\n    .dataframe tbody tr th:only-of-type {\n        vertical-align: middle;\n    }\n\n    .dataframe tbody tr th {\n        vertical-align: top;\n    }\n\n    .dataframe thead th {\n        text-align: right;\n    }\n</style>\n<table border=\"1\" class=\"dataframe\">\n  <thead>\n    <tr style=\"text-align: right;\">\n      <th></th>\n      <th>id_aluno</th>\n      <th>id_curso</th>\n    </tr>\n  </thead>\n  <tbody>\n    <tr>\n      <th>0</th>\n      <td>6</td>\n      <td>18</td>\n    </tr>\n    <tr>\n      <th>1</th>\n      <td>6</td>\n      <td>12</td>\n    </tr>\n    <tr>\n      <th>2</th>\n      <td>6</td>\n      <td>3</td>\n    </tr>\n    <tr>\n      <th>3</th>\n      <td>10</td>\n      <td>15</td>\n    </tr>\n    <tr>\n      <th>4</th>\n      <td>12</td>\n      <td>6</td>\n    </tr>\n  </tbody>\n</table>\n</div>"
     },
     "execution_count": 583,
     "metadata": {},
     "output_type": "execute_result"
    }
   ],
   "source": [
    "matriculas.head()"
   ],
   "metadata": {
    "collapsed": false
   }
  },
  {
   "cell_type": "code",
   "execution_count": 584,
   "outputs": [
    {
     "data": {
      "text/plain": "    id_aluno  id_curso\n6         38         1\n8          5         1\n13        23         1\n21        13         1\n41        16         1\n47        26         1\n52        27         1\n70        22         1\n73        17         1",
      "text/html": "<div>\n<style scoped>\n    .dataframe tbody tr th:only-of-type {\n        vertical-align: middle;\n    }\n\n    .dataframe tbody tr th {\n        vertical-align: top;\n    }\n\n    .dataframe thead th {\n        text-align: right;\n    }\n</style>\n<table border=\"1\" class=\"dataframe\">\n  <thead>\n    <tr style=\"text-align: right;\">\n      <th></th>\n      <th>id_aluno</th>\n      <th>id_curso</th>\n    </tr>\n  </thead>\n  <tbody>\n    <tr>\n      <th>6</th>\n      <td>38</td>\n      <td>1</td>\n    </tr>\n    <tr>\n      <th>8</th>\n      <td>5</td>\n      <td>1</td>\n    </tr>\n    <tr>\n      <th>13</th>\n      <td>23</td>\n      <td>1</td>\n    </tr>\n    <tr>\n      <th>21</th>\n      <td>13</td>\n      <td>1</td>\n    </tr>\n    <tr>\n      <th>41</th>\n      <td>16</td>\n      <td>1</td>\n    </tr>\n    <tr>\n      <th>47</th>\n      <td>26</td>\n      <td>1</td>\n    </tr>\n    <tr>\n      <th>52</th>\n      <td>27</td>\n      <td>1</td>\n    </tr>\n    <tr>\n      <th>70</th>\n      <td>22</td>\n      <td>1</td>\n    </tr>\n    <tr>\n      <th>73</th>\n      <td>17</td>\n      <td>1</td>\n    </tr>\n  </tbody>\n</table>\n</div>"
     },
     "execution_count": 584,
     "metadata": {},
     "output_type": "execute_result"
    }
   ],
   "source": [
    "id_curso = 1\n",
    "proxima_turma = matriculas.query(f'id_curso == {id_curso}')\n",
    "proxima_turma"
   ],
   "metadata": {
    "collapsed": false
   }
  },
  {
   "cell_type": "code",
   "execution_count": 585,
   "outputs": [
    {
     "data": {
      "text/plain": "              nome\nid_aluno          \n38         ANTONIA\n5          ADRIANA\n23          MARCIA\n13        PATRICIA\n16         MARIANA\n26         ANTONIO\n27           PAULO\n22         MARCELO\n17         EDUARDO",
      "text/html": "<div>\n<style scoped>\n    .dataframe tbody tr th:only-of-type {\n        vertical-align: middle;\n    }\n\n    .dataframe tbody tr th {\n        vertical-align: top;\n    }\n\n    .dataframe thead th {\n        text-align: right;\n    }\n</style>\n<table border=\"1\" class=\"dataframe\">\n  <thead>\n    <tr style=\"text-align: right;\">\n      <th></th>\n      <th>nome</th>\n    </tr>\n    <tr>\n      <th>id_aluno</th>\n      <th></th>\n    </tr>\n  </thead>\n  <tbody>\n    <tr>\n      <th>38</th>\n      <td>ANTONIA</td>\n    </tr>\n    <tr>\n      <th>5</th>\n      <td>ADRIANA</td>\n    </tr>\n    <tr>\n      <th>23</th>\n      <td>MARCIA</td>\n    </tr>\n    <tr>\n      <th>13</th>\n      <td>PATRICIA</td>\n    </tr>\n    <tr>\n      <th>16</th>\n      <td>MARIANA</td>\n    </tr>\n    <tr>\n      <th>26</th>\n      <td>ANTONIO</td>\n    </tr>\n    <tr>\n      <th>27</th>\n      <td>PAULO</td>\n    </tr>\n    <tr>\n      <th>22</th>\n      <td>MARCELO</td>\n    </tr>\n    <tr>\n      <th>17</th>\n      <td>EDUARDO</td>\n    </tr>\n  </tbody>\n</table>\n</div>"
     },
     "execution_count": 585,
     "metadata": {},
     "output_type": "execute_result"
    }
   ],
   "source": [
    "proxima_turma = proxima_turma.set_index('id_aluno').join(nomes.set_index('id_aluno'))['nome'].to_frame()\n",
    "proxima_turma"
   ],
   "metadata": {
    "collapsed": false
   }
  },
  {
   "cell_type": "code",
   "execution_count": 586,
   "outputs": [
    {
     "data": {
      "text/plain": "nome_do_curso    Lógica de programação\nName: 1, dtype: object"
     },
     "execution_count": 586,
     "metadata": {},
     "output_type": "execute_result"
    }
   ],
   "source": [
    "nome_curso = cursos.loc[id_curso]\n",
    "nome_curso"
   ],
   "metadata": {
    "collapsed": false
   }
  },
  {
   "cell_type": "code",
   "execution_count": 587,
   "outputs": [
    {
     "data": {
      "text/plain": "'Lógica de programação'"
     },
     "execution_count": 587,
     "metadata": {},
     "output_type": "execute_result"
    }
   ],
   "source": [
    "nome_curso = nome_curso.nome_do_curso\n",
    "nome_curso"
   ],
   "metadata": {
    "collapsed": false
   }
  },
  {
   "cell_type": "code",
   "execution_count": 588,
   "outputs": [
    {
     "data": {
      "text/plain": "         Alunos curso Lógica de programação\nid_aluno                                   \n38                                  ANTONIA\n5                                   ADRIANA\n23                                   MARCIA\n13                                 PATRICIA\n16                                  MARIANA\n26                                  ANTONIO\n27                                    PAULO\n22                                  MARCELO\n17                                  EDUARDO",
      "text/html": "<div>\n<style scoped>\n    .dataframe tbody tr th:only-of-type {\n        vertical-align: middle;\n    }\n\n    .dataframe tbody tr th {\n        vertical-align: top;\n    }\n\n    .dataframe thead th {\n        text-align: right;\n    }\n</style>\n<table border=\"1\" class=\"dataframe\">\n  <thead>\n    <tr style=\"text-align: right;\">\n      <th></th>\n      <th>Alunos curso Lógica de programação</th>\n    </tr>\n    <tr>\n      <th>id_aluno</th>\n      <th></th>\n    </tr>\n  </thead>\n  <tbody>\n    <tr>\n      <th>38</th>\n      <td>ANTONIA</td>\n    </tr>\n    <tr>\n      <th>5</th>\n      <td>ADRIANA</td>\n    </tr>\n    <tr>\n      <th>23</th>\n      <td>MARCIA</td>\n    </tr>\n    <tr>\n      <th>13</th>\n      <td>PATRICIA</td>\n    </tr>\n    <tr>\n      <th>16</th>\n      <td>MARIANA</td>\n    </tr>\n    <tr>\n      <th>26</th>\n      <td>ANTONIO</td>\n    </tr>\n    <tr>\n      <th>27</th>\n      <td>PAULO</td>\n    </tr>\n    <tr>\n      <th>22</th>\n      <td>MARCELO</td>\n    </tr>\n    <tr>\n      <th>17</th>\n      <td>EDUARDO</td>\n    </tr>\n  </tbody>\n</table>\n</div>"
     },
     "execution_count": 588,
     "metadata": {},
     "output_type": "execute_result"
    }
   ],
   "source": [
    "proxima_turma.rename(columns={'nome': f'Alunos curso {nome_curso}'})"
   ],
   "metadata": {
    "collapsed": false
   }
  },
  {
   "cell_type": "code",
   "execution_count": 589,
   "outputs": [],
   "source": [
    "proxima_turma.to_excel('proxima_turma.xlsx', index=False)"
   ],
   "metadata": {
    "collapsed": false
   }
  }
 ],
 "metadata": {
  "kernelspec": {
   "display_name": "Python 3",
   "language": "python",
   "name": "python3"
  },
  "language_info": {
   "codemirror_mode": {
    "name": "ipython",
    "version": 2
   },
   "file_extension": ".py",
   "mimetype": "text/x-python",
   "name": "python",
   "nbconvert_exporter": "python",
   "pygments_lexer": "ipython2",
   "version": "2.7.6"
  }
 },
 "nbformat": 4,
 "nbformat_minor": 0
}
