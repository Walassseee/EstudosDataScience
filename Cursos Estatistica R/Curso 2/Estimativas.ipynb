{
  "cells": [
    {
      "metadata": {
        "colab_type": "text",
        "id": "WvMflodMjQKe"
      },
      "cell_type": "markdown",
      "source": "***\n# <font color=green size=10>CURSO DE ESTATÍSTICA - PARTE 2</font>\n***\n\n## Trabalho sobre Probabilidades, Amostragem e Estimações\n\nUtilizando os conhecimentos adquiridos em nosso treinamento execute as tarefas abaixo. Siga o roteiro proposto e vá completando as células vazias."
    },
    {
      "metadata": {
        "colab_type": "text",
        "id": "cVgsZ_E3jQKg"
      },
      "cell_type": "markdown",
      "source": "# <font color=green>DATASET DO PROJETO</font>\n***"
    },
    {
      "metadata": {
        "colab_type": "text",
        "id": "iN1gIbaKjQKh"
      },
      "cell_type": "markdown",
      "source": "### Pesquisa Nacional por Amostra de Domicílios - 2015\n\nA <b>Pesquisa Nacional por Amostra de Domicílios - PNAD</b> investiga anualmente, de forma permanente, características gerais da população, de educação, trabalho, rendimento e habitação e outras, com periodicidade variável, de acordo com as necessidades de informação para o país, como as características sobre migração, fecundidade, nupcialidade, saúde, segurança alimentar, entre outros temas. O levantamento dessas estatísticas constitui, ao longo dos 49 anos de realização da pesquisa, um importante instrumento para formulação, validação e avaliação de políticas orientadas para o desenvolvimento socioeconômico e a melhoria das condições de vida no Brasil."
    },
    {
      "metadata": {
        "colab_type": "text",
        "id": "U6V7br1RjQKi"
      },
      "cell_type": "markdown",
      "source": "### Fonte dos Dados\n\nhttps://ww2.ibge.gov.br/home/estatistica/populacao/trabalhoerendimento/pnad2015/microdados.shtm"
    },
    {
      "metadata": {
        "colab_type": "text",
        "id": "r0Fe_qnzjQKj"
      },
      "cell_type": "markdown",
      "source": "### Variáveis utilizadas\n\n> ### Renda\n> ***\n\nRendimento mensal do trabalho principal para pessoas de 10 anos ou mais de idade.\n\n> ### Idade\n> ***\n\nIdade do morador na data de referência em anos.\n\n> ### Altura (elaboração própria)\n> ***\n\nAltura do morador em metros.\n\n> ### UF\n> ***\n\n|Código|Descrição|\n|---|---|\n|11|Rondônia|\n|12|Acre|\n|13|Amazonas|\n|14|Roraima|\n|15|Pará|\n|16|Amapá|\n|17|Tocantins|\n|21|Maranhão|\n|22|Piauí|\n|23|Ceará|\n|24|Rio Grande do Norte|\n|25|Paraíba|\n|26|Pernambuco|\n|27|Alagoas|\n|28|Sergipe|\n|29|Bahia|\n|31|Minas Gerais|\n|32|Espírito Santo|\n|33|Rio de Janeiro|\n|35|São Paulo|\n|41|Paraná|\n|42|Santa Catarina|\n|43|Rio Grande do Sul|\n|50|Mato Grosso do Sul|\n|51|Mato Grosso|\n|52|Goiás|\n|53|Distrito Federal|\n\n> ### Sexo\t\n> ***\n\n|Código|Descrição|\n|---|---|\n|0|Masculino|\n|1|Feminino|\n\n> ### Anos de Estudo\n> ***\n\n|Código|Descrição|\n|---|---|\n|1|Sem instrução e menos de 1 ano|\n|2|1 ano|\n|3|2 anos|\n|4|3 anos|\n|5|4 anos|\n|6|5 anos|\n|7|6 anos|\n|8|7 anos|\n|9|8 anos|\n|10|9 anos|\n|11|10 anos|\n|12|11 anos|\n|13|12 anos|\n|14|13 anos|\n|15|14 anos|\n|16|15 anos ou mais|\n|17|Não determinados| \n||Não aplicável|\n\n> ### Cor\n> ***\n\n|Código|Descrição|\n|---|---|\n|0|Indígena|\n|2|Branca|\n|4|Preta|\n|6|Amarela|\n|8|Parda|\n|9|Sem declaração|"
    },
    {
      "metadata": {
        "colab_type": "text",
        "id": "OK1IQH5cX7Gb"
      },
      "cell_type": "markdown",
      "source": "#### <font color='red'>Observação</font>\n***\n> Os seguintes tratamentos foram realizados nos dados originais:\n> 1. Foram eliminados os registros onde a <b>Renda</b> era inválida (999 999 999 999);\n> 2. Foram eliminados os registros onde a <b>Renda</b> era missing;\n> 3. Foram considerados somente os registros das <b>Pessoas de Referência</b> de cada domicílio (responsável pelo domicílio)."
    },
    {
      "metadata": {
        "colab_type": "text",
        "id": "ZIqLOffNTg1Y"
      },
      "cell_type": "markdown",
      "source": "***\n***"
    },
    {
      "metadata": {
        "colab_type": "text",
        "id": "8Rw70V6ojQKk"
      },
      "cell_type": "markdown",
      "source": "### Utilize as células abaixo para importar as bibliotecas e configurações que precisar para executar as tarefas"
    },
    {
      "metadata": {
        "colab": {},
        "colab_type": "code",
        "id": "fcTgimHBybMz",
        "trusted": false
      },
      "cell_type": "code",
      "source": "",
      "execution_count": null,
      "outputs": []
    },
    {
      "metadata": {
        "colab_type": "text",
        "id": "2a-gvBvCULwt"
      },
      "cell_type": "markdown",
      "source": "### Importe o dataset e armazene o conteúdo em uma DataFrame"
    },
    {
      "metadata": {
        "colab": {},
        "colab_type": "code",
        "id": "ufRZ7TLwjQKo",
        "trusted": false
      },
      "cell_type": "code",
      "source": "",
      "execution_count": null,
      "outputs": []
    },
    {
      "metadata": {
        "colab_type": "text",
        "id": "Oq3CKHCmTg1j"
      },
      "cell_type": "markdown",
      "source": "### Visualize o conteúdo do DataFrame"
    },
    {
      "metadata": {
        "colab": {},
        "colab_type": "code",
        "id": "GsC_WhLFjQKq",
        "scrolled": true,
        "trusted": false
      },
      "cell_type": "code",
      "source": "",
      "execution_count": null,
      "outputs": []
    },
    {
      "metadata": {},
      "cell_type": "markdown",
      "source": "# <font color='green'>Problema A</font>"
    },
    {
      "metadata": {},
      "cell_type": "markdown",
      "source": "Avaliando nosso dataset é possível verificar que a **proporção de homens** como chefes de domicílios é de quase **70%**. Precisamos **selecionar aleatoriamente grupos de 10 indivíduos** para verificar as diferenças entre os rendimentos em cada grupo. Qual a **probabilidade de selecionamos um grupo que apresente a mesma proporção da população**, ou seja, selecionarmos um grupo que seja **composto por 7 homens e 3 mulheres**?\n\n#### <font color='blue'>Como tarefa extra, verifique a real proporção de homens e mulheres em nosso dataset (vimos como fazer isso em nosso primeiro curso de estatística).</font>\n\n#### <font color='red'>Verifique que tipo de distribuição de probabilidade se encaixa neste experimento.</font>"
    },
    {
      "metadata": {},
      "cell_type": "markdown",
      "source": "### Solução"
    },
    {
      "metadata": {
        "trusted": false
      },
      "cell_type": "code",
      "source": "",
      "execution_count": null,
      "outputs": []
    },
    {
      "metadata": {
        "trusted": false
      },
      "cell_type": "code",
      "source": "",
      "execution_count": null,
      "outputs": []
    },
    {
      "metadata": {
        "trusted": false
      },
      "cell_type": "code",
      "source": "",
      "execution_count": null,
      "outputs": []
    },
    {
      "metadata": {
        "trusted": false
      },
      "cell_type": "code",
      "source": "",
      "execution_count": null,
      "outputs": []
    },
    {
      "metadata": {},
      "cell_type": "markdown",
      "source": "# <font color='green'>Problema B</font>"
    },
    {
      "metadata": {},
      "cell_type": "markdown",
      "source": "Ainda sobre a questão anterior, **quantos grupos de 10 indivíduos** nós precisaríamos selecionar, de forma aleatória, para conseguir **100 grupos compostos por 7 homens e 3 mulheres**?\n\n#### <font color='red'>Lembre-se da forma de cálculo da média de uma distribuição binomial</font>"
    },
    {
      "metadata": {},
      "cell_type": "markdown",
      "source": "### Solução"
    },
    {
      "metadata": {},
      "cell_type": "markdown",
      "source": "### Média da distribuição binomial\n\n# $$\\mu=n \\times p$$"
    },
    {
      "metadata": {
        "trusted": false
      },
      "cell_type": "code",
      "source": "",
      "execution_count": null,
      "outputs": []
    },
    {
      "metadata": {},
      "cell_type": "markdown",
      "source": "# <font color='green'>Problema C</font>"
    },
    {
      "metadata": {},
      "cell_type": "markdown",
      "source": "Um cliente nos encomendou um estudo para avaliar o **rendimento dos chefes de domicílio no Brasil**. Para isso precisamos realizar uma nova coleta de dados, isto é, uma nova pesquisa de campo. Após reunião com o cliente foi possível elencar o seguinte conjunto de informações:\n\n> A. O resultado da pesquisa precisa estar pronto em **2 meses**;\n\n> B. Teremos somente **R$\\$$ 150.000,00** de recursos para realização da pesquisa de campo; e\n    \n> C. Seria interessante uma **margem de erro não superior a 10% em relação a média estimada**.\n\nEm nossa experiência com estudos deste tipo, sabemos que o **custo médio por indivíduo entrevistado fica em torno de R$\\$$ 100,00**. Com este conjunto de fatos avalie e obtenha o seguinte conjunto de informações para passar ao cliente:\n\n\n> 1. Para obter uma estimativa para os parâmetros da população (renda dos chefes de domicílio no Brasil), realize uma amostragem aleatória simples em nosso conjunto de dados. Essa amostra deve conter 200 elementos (utilize set.seed(100) para garantir que o mesmo experimento possa ser realizado novamente). Obtenha a média e o desvio-padrão dessa amostra.\n    \n> 2. Para a **margem de erro** especificada pelo cliente obtenha os **tamanhos de amostra** necessários para garantir os **níveis de confiança de 90%, 95% e 99%**.\n    \n> 3. Obtenha o **custo da pesquisa** para os três níveis de confiança.\n    \n> 4. Para o maior nível de confiança viável (dentro do orçamento disponível), obtenha um **intervalo de confiança para a média da população**.\n    \n> 5. Assumindo o **nível de confiança escolhido no item anterior**, qual **margem de erro** pode ser considerada utilizando todo o recurso disponibilizado pelo cliente?\n    \n> 6. Assumindo um **nível de confiança de 95%**, **quanto a pesquisa custaria ao cliente** caso fosse considerada uma **margem de erro de apenas 5%** em relação a média estimada?\n"
    },
    {
      "metadata": {},
      "cell_type": "markdown",
      "source": "# <font color='blue'>Solução do item 1</font>"
    },
    {
      "metadata": {},
      "cell_type": "markdown",
      "source": "### Seleção de uma amostra aleatório simples\n\n#### <font color='red'>Lembre-se de utilizar *set.seed(100)*</font>"
    },
    {
      "metadata": {
        "trusted": false
      },
      "cell_type": "code",
      "source": "",
      "execution_count": null,
      "outputs": []
    },
    {
      "metadata": {
        "trusted": false
      },
      "cell_type": "code",
      "source": "",
      "execution_count": null,
      "outputs": []
    },
    {
      "metadata": {
        "trusted": false
      },
      "cell_type": "code",
      "source": "",
      "execution_count": null,
      "outputs": []
    },
    {
      "metadata": {},
      "cell_type": "markdown",
      "source": "### Dados do problema"
    },
    {
      "metadata": {
        "trusted": false
      },
      "cell_type": "code",
      "source": "",
      "execution_count": null,
      "outputs": []
    },
    {
      "metadata": {},
      "cell_type": "markdown",
      "source": "# <font color='blue'>Solução do item 2</font>"
    },
    {
      "metadata": {},
      "cell_type": "markdown",
      "source": "### Obtenha a margem de erro\n\n#### <font color='red'>Lembre-se que a margem de erro deve estar na mesma unidade da variável que está sendo estudada (R$)</font>"
    },
    {
      "metadata": {
        "trusted": false
      },
      "cell_type": "code",
      "source": "",
      "execution_count": null,
      "outputs": []
    },
    {
      "metadata": {},
      "cell_type": "markdown",
      "source": "### Tamanho da amostra ($1 - \\alpha = 90\\%$)"
    },
    {
      "metadata": {
        "trusted": false
      },
      "cell_type": "code",
      "source": "",
      "execution_count": null,
      "outputs": []
    },
    {
      "metadata": {
        "trusted": false
      },
      "cell_type": "code",
      "source": "",
      "execution_count": null,
      "outputs": []
    },
    {
      "metadata": {},
      "cell_type": "markdown",
      "source": "### Tamanho da amostra ($1 - \\alpha = 95\\%$)"
    },
    {
      "metadata": {
        "trusted": false
      },
      "cell_type": "code",
      "source": "",
      "execution_count": null,
      "outputs": []
    },
    {
      "metadata": {
        "trusted": false
      },
      "cell_type": "code",
      "source": "",
      "execution_count": null,
      "outputs": []
    },
    {
      "metadata": {},
      "cell_type": "markdown",
      "source": "### Tamanho da amostra ($1 - \\alpha = 99\\%$)"
    },
    {
      "metadata": {
        "trusted": false
      },
      "cell_type": "code",
      "source": "",
      "execution_count": null,
      "outputs": []
    },
    {
      "metadata": {
        "trusted": false
      },
      "cell_type": "code",
      "source": "",
      "execution_count": null,
      "outputs": []
    },
    {
      "metadata": {},
      "cell_type": "markdown",
      "source": "# <font color='blue'>Solução do item 3</font>"
    },
    {
      "metadata": {},
      "cell_type": "markdown",
      "source": "### Custo da pesquisa para o nível de confiança de 90%"
    },
    {
      "metadata": {
        "trusted": false
      },
      "cell_type": "code",
      "source": "",
      "execution_count": null,
      "outputs": []
    },
    {
      "metadata": {},
      "cell_type": "markdown",
      "source": "### Custo da pesquisa para o nível de confiança de 95%"
    },
    {
      "metadata": {
        "trusted": false
      },
      "cell_type": "code",
      "source": "",
      "execution_count": null,
      "outputs": []
    },
    {
      "metadata": {},
      "cell_type": "markdown",
      "source": "### Custo da pesquisa para o nível de confiança de 99%"
    },
    {
      "metadata": {
        "trusted": false
      },
      "cell_type": "code",
      "source": "",
      "execution_count": null,
      "outputs": []
    },
    {
      "metadata": {},
      "cell_type": "markdown",
      "source": "# <font color='blue'>Solução do item 4</font>"
    },
    {
      "metadata": {
        "trusted": false
      },
      "cell_type": "code",
      "source": "",
      "execution_count": null,
      "outputs": []
    },
    {
      "metadata": {},
      "cell_type": "markdown",
      "source": "# <font color='blue'>Solução do item 5</font>"
    },
    {
      "metadata": {
        "trusted": false
      },
      "cell_type": "code",
      "source": "",
      "execution_count": null,
      "outputs": []
    },
    {
      "metadata": {
        "trusted": false
      },
      "cell_type": "code",
      "source": "",
      "execution_count": null,
      "outputs": []
    },
    {
      "metadata": {
        "trusted": false
      },
      "cell_type": "code",
      "source": "",
      "execution_count": null,
      "outputs": []
    },
    {
      "metadata": {},
      "cell_type": "markdown",
      "source": "# <font color='blue'>Solução do item 6</font>"
    },
    {
      "metadata": {
        "trusted": false
      },
      "cell_type": "code",
      "source": "",
      "execution_count": null,
      "outputs": []
    },
    {
      "metadata": {
        "trusted": false
      },
      "cell_type": "code",
      "source": "",
      "execution_count": null,
      "outputs": []
    },
    {
      "metadata": {
        "trusted": false
      },
      "cell_type": "code",
      "source": "",
      "execution_count": null,
      "outputs": []
    },
    {
      "metadata": {
        "trusted": false
      },
      "cell_type": "code",
      "source": "",
      "execution_count": null,
      "outputs": []
    }
  ],
  "metadata": {
    "colab": {
      "name": "Análise_Descritiva.ipynb",
      "provenance": [],
      "toc_visible": true,
      "version": "0.3.2"
    },
    "kernelspec": {
      "name": "r",
      "display_name": "R",
      "language": "R"
    },
    "language_info": {
      "mimetype": "text/x-r-source",
      "name": "R",
      "pygments_lexer": "r",
      "version": "3.5.3",
      "file_extension": ".r",
      "codemirror_mode": "r"
    }
  },
  "nbformat": 4,
  "nbformat_minor": 1
}