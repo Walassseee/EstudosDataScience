{
  "cells": [
    {
      "metadata": {
        "colab_type": "text",
        "id": "WvMflodMjQKe"
      },
      "cell_type": "markdown",
      "source": "***\n# <font color=green size=10>CURSO DE ESTATÍSTICA - PARTE 2</font>\n***\n\n## Trabalho sobre Probabilidades, Amostragem e Estimações\n\nUtilizando os conhecimentos adquiridos em nosso treinamento execute as tarefas abaixo. Siga o roteiro proposto e vá completando as células vazias."
    },
    {
      "metadata": {
        "colab_type": "text",
        "id": "cVgsZ_E3jQKg"
      },
      "cell_type": "markdown",
      "source": "# <font color=green>DATASET DO PROJETO</font>\n***"
    },
    {
      "metadata": {
        "colab_type": "text",
        "id": "iN1gIbaKjQKh"
      },
      "cell_type": "markdown",
      "source": "### Pesquisa Nacional por Amostra de Domicílios - 2015\n\nA <b>Pesquisa Nacional por Amostra de Domicílios - PNAD</b> investiga anualmente, de forma permanente, características gerais da população, de educação, trabalho, rendimento e habitação e outras, com periodicidade variável, de acordo com as necessidades de informação para o país, como as características sobre migração, fecundidade, nupcialidade, saúde, segurança alimentar, entre outros temas. O levantamento dessas estatísticas constitui, ao longo dos 49 anos de realização da pesquisa, um importante instrumento para formulação, validação e avaliação de políticas orientadas para o desenvolvimento socioeconômico e a melhoria das condições de vida no Brasil."
    },
    {
      "metadata": {
        "colab_type": "text",
        "id": "U6V7br1RjQKi"
      },
      "cell_type": "markdown",
      "source": "### Fonte dos Dados\n\nhttps://ww2.ibge.gov.br/home/estatistica/populacao/trabalhoerendimento/pnad2015/microdados.shtm"
    },
    {
      "metadata": {
        "colab_type": "text",
        "id": "r0Fe_qnzjQKj"
      },
      "cell_type": "markdown",
      "source": "### Variáveis utilizadas\n\n> ### Renda\n> ***\n\nRendimento mensal do trabalho principal para pessoas de 10 anos ou mais de idade.\n\n> ### Idade\n> ***\n\nIdade do morador na data de referência em anos.\n\n> ### Altura (elaboração própria)\n> ***\n\nAltura do morador em metros.\n\n> ### UF\n> ***\n\n|Código|Descrição|\n|---|---|\n|11|Rondônia|\n|12|Acre|\n|13|Amazonas|\n|14|Roraima|\n|15|Pará|\n|16|Amapá|\n|17|Tocantins|\n|21|Maranhão|\n|22|Piauí|\n|23|Ceará|\n|24|Rio Grande do Norte|\n|25|Paraíba|\n|26|Pernambuco|\n|27|Alagoas|\n|28|Sergipe|\n|29|Bahia|\n|31|Minas Gerais|\n|32|Espírito Santo|\n|33|Rio de Janeiro|\n|35|São Paulo|\n|41|Paraná|\n|42|Santa Catarina|\n|43|Rio Grande do Sul|\n|50|Mato Grosso do Sul|\n|51|Mato Grosso|\n|52|Goiás|\n|53|Distrito Federal|\n\n> ### Sexo\t\n> ***\n\n|Código|Descrição|\n|---|---|\n|0|Masculino|\n|1|Feminino|\n\n> ### Anos de Estudo\n> ***\n\n|Código|Descrição|\n|---|---|\n|1|Sem instrução e menos de 1 ano|\n|2|1 ano|\n|3|2 anos|\n|4|3 anos|\n|5|4 anos|\n|6|5 anos|\n|7|6 anos|\n|8|7 anos|\n|9|8 anos|\n|10|9 anos|\n|11|10 anos|\n|12|11 anos|\n|13|12 anos|\n|14|13 anos|\n|15|14 anos|\n|16|15 anos ou mais|\n|17|Não determinados| \n||Não aplicável|\n\n> ### Cor\n> ***\n\n|Código|Descrição|\n|---|---|\n|0|Indígena|\n|2|Branca|\n|4|Preta|\n|6|Amarela|\n|8|Parda|\n|9|Sem declaração|"
    },
    {
      "metadata": {
        "colab_type": "text",
        "id": "OK1IQH5cX7Gb"
      },
      "cell_type": "markdown",
      "source": "#### <font color='red'>Observação</font>\n***\n> Os seguintes tratamentos foram realizados nos dados originais:\n> 1. Foram eliminados os registros onde a <b>Renda</b> era inválida (999 999 999 999);\n> 2. Foram eliminados os registros onde a <b>Renda</b> era missing;\n> 3. Foram considerados somente os registros das <b>Pessoas de Referência</b> de cada domicílio (responsável pelo domicílio)."
    },
    {
      "metadata": {
        "colab_type": "text",
        "id": "ZIqLOffNTg1Y"
      },
      "cell_type": "markdown",
      "source": "***\n***"
    },
    {
      "metadata": {
        "colab_type": "text",
        "id": "8Rw70V6ojQKk"
      },
      "cell_type": "markdown",
      "source": "### Utilize as células abaixo para importar as bibliotecas e configurações que precisar para executar as tarefas"
    },
    {
      "metadata": {
        "colab": {},
        "colab_type": "code",
        "id": "fcTgimHBybMz",
        "trusted": true
      },
      "cell_type": "code",
      "source": "library(dplyr)\nlibrary(glue)",
      "execution_count": 1,
      "outputs": [
        {
          "output_type": "stream",
          "text": "\nAttaching package: ‘dplyr’\n\nThe following objects are masked from ‘package:stats’:\n\n    filter, lag\n\nThe following objects are masked from ‘package:base’:\n\n    intersect, setdiff, setequal, union\n\n\nAttaching package: ‘glue’\n\nThe following object is masked from ‘package:dplyr’:\n\n    collapse\n\n",
          "name": "stderr"
        }
      ]
    },
    {
      "metadata": {
        "trusted": true
      },
      "cell_type": "code",
      "source": "",
      "execution_count": null,
      "outputs": []
    },
    {
      "metadata": {
        "colab_type": "text",
        "id": "2a-gvBvCULwt"
      },
      "cell_type": "markdown",
      "source": "### Importe o dataset e armazene o conteúdo em uma DataFrame"
    },
    {
      "metadata": {
        "colab": {},
        "colab_type": "code",
        "id": "ufRZ7TLwjQKo",
        "trusted": true
      },
      "cell_type": "code",
      "source": "dados <- read.csv('dados.csv')",
      "execution_count": 2,
      "outputs": []
    },
    {
      "metadata": {
        "colab_type": "text",
        "id": "Oq3CKHCmTg1j"
      },
      "cell_type": "markdown",
      "source": "### Visualize o conteúdo do DataFrame"
    },
    {
      "metadata": {
        "colab": {},
        "colab_type": "code",
        "id": "GsC_WhLFjQKq",
        "scrolled": true,
        "trusted": true
      },
      "cell_type": "code",
      "source": "head(dados)",
      "execution_count": 3,
      "outputs": [
        {
          "output_type": "display_data",
          "data": {
            "text/plain": "  UF Sexo Idade Cor Anos.de.Estudo Renda Altura  \n1 11 0    23    8   12              800  1.603808\n2 11 1    23    2   12             1150  1.739790\n3 11 1    35    8   15              880  1.760444\n4 11 0    46    2    6             3500  1.783158\n5 11 1    47    8    9              150  1.690631\n6 11 1    34    8   12              790  1.637906",
            "text/latex": "A data.frame: 6 x 7\n\\begin{tabular}{r|lllllll}\n UF & Sexo & Idade & Cor & Anos.de.Estudo & Renda & Altura\\\\\n <int> & <int> & <int> & <int> & <int> & <int> & <dbl>\\\\\n\\hline\n\t 11 & 0 & 23 & 8 & 12 &  800 & 1.603808\\\\\n\t 11 & 1 & 23 & 2 & 12 & 1150 & 1.739790\\\\\n\t 11 & 1 & 35 & 8 & 15 &  880 & 1.760444\\\\\n\t 11 & 0 & 46 & 2 &  6 & 3500 & 1.783158\\\\\n\t 11 & 1 & 47 & 8 &  9 &  150 & 1.690631\\\\\n\t 11 & 1 & 34 & 8 & 12 &  790 & 1.637906\\\\\n\\end{tabular}\n",
            "text/markdown": "\nA data.frame: 6 x 7\n\n| UF &lt;int&gt; | Sexo &lt;int&gt; | Idade &lt;int&gt; | Cor &lt;int&gt; | Anos.de.Estudo &lt;int&gt; | Renda &lt;int&gt; | Altura &lt;dbl&gt; |\n|---|---|---|---|---|---|---|\n| 11 | 0 | 23 | 8 | 12 |  800 | 1.603808 |\n| 11 | 1 | 23 | 2 | 12 | 1150 | 1.739790 |\n| 11 | 1 | 35 | 8 | 15 |  880 | 1.760444 |\n| 11 | 0 | 46 | 2 |  6 | 3500 | 1.783158 |\n| 11 | 1 | 47 | 8 |  9 |  150 | 1.690631 |\n| 11 | 1 | 34 | 8 | 12 |  790 | 1.637906 |\n\n",
            "text/html": "<table>\n<caption>A data.frame: 6 x 7</caption>\n<thead>\n\t<tr><th scope=col>UF</th><th scope=col>Sexo</th><th scope=col>Idade</th><th scope=col>Cor</th><th scope=col>Anos.de.Estudo</th><th scope=col>Renda</th><th scope=col>Altura</th></tr>\n\t<tr><th scope=col>&lt;int&gt;</th><th scope=col>&lt;int&gt;</th><th scope=col>&lt;int&gt;</th><th scope=col>&lt;int&gt;</th><th scope=col>&lt;int&gt;</th><th scope=col>&lt;int&gt;</th><th scope=col>&lt;dbl&gt;</th></tr>\n</thead>\n<tbody>\n\t<tr><td>11</td><td>0</td><td>23</td><td>8</td><td>12</td><td> 800</td><td>1.603808</td></tr>\n\t<tr><td>11</td><td>1</td><td>23</td><td>2</td><td>12</td><td>1150</td><td>1.739790</td></tr>\n\t<tr><td>11</td><td>1</td><td>35</td><td>8</td><td>15</td><td> 880</td><td>1.760444</td></tr>\n\t<tr><td>11</td><td>0</td><td>46</td><td>2</td><td> 6</td><td>3500</td><td>1.783158</td></tr>\n\t<tr><td>11</td><td>1</td><td>47</td><td>8</td><td> 9</td><td> 150</td><td>1.690631</td></tr>\n\t<tr><td>11</td><td>1</td><td>34</td><td>8</td><td>12</td><td> 790</td><td>1.637906</td></tr>\n</tbody>\n</table>\n"
          },
          "metadata": {}
        }
      ]
    },
    {
      "metadata": {},
      "cell_type": "markdown",
      "source": "# <font color='green'>Problema A</font>"
    },
    {
      "metadata": {},
      "cell_type": "markdown",
      "source": "Avaliando nosso dataset é possível verificar que a **proporção de homens** como chefes de domicílios é de quase **70%**. Precisamos **selecionar aleatoriamente grupos de 10 indivíduos** para verificar as diferenças entre os rendimentos em cada grupo. Qual a **probabilidade de selecionamos um grupo que apresente a mesma proporção da população**, ou seja, selecionarmos um grupo que seja **composto por 7 homens e 3 mulheres**?\n\n#### <font color='blue'>Como tarefa extra, verifique a real proporção de homens e mulheres em nosso dataset (vimos como fazer isso em nosso primeiro curso de estatística).</font>\n\n#### <font color='red'>Verifique que tipo de distribuição de probabilidade se encaixa neste experimento.</font>"
    },
    {
      "metadata": {},
      "cell_type": "markdown",
      "source": "### Solução"
    },
    {
      "metadata": {
        "trusted": true
      },
      "cell_type": "code",
      "source": "k <- 7",
      "execution_count": 4,
      "outputs": []
    },
    {
      "metadata": {
        "trusted": true
      },
      "cell_type": "code",
      "source": "n <- 10",
      "execution_count": 5,
      "outputs": []
    },
    {
      "metadata": {
        "trusted": true
      },
      "cell_type": "code",
      "source": "p <- 0.70",
      "execution_count": 6,
      "outputs": []
    },
    {
      "metadata": {
        "trusted": true
      },
      "cell_type": "code",
      "source": "probabilidade <- dbinom(k, n, p)\nprobabilidade",
      "execution_count": 7,
      "outputs": [
        {
          "output_type": "display_data",
          "data": {
            "text/plain": "[1] 0.2668279",
            "text/latex": "0.266827932",
            "text/markdown": "0.266827932",
            "text/html": "0.266827932"
          },
          "metadata": {}
        }
      ]
    },
    {
      "metadata": {},
      "cell_type": "markdown",
      "source": "# <font color='green'>Problema B</font>"
    },
    {
      "metadata": {},
      "cell_type": "markdown",
      "source": "Ainda sobre a questão anterior, **quantos grupos de 10 indivíduos** nós precisaríamos selecionar, de forma aleatória, para conseguir **100 grupos compostos por 7 homens e 3 mulheres**?\n\n#### <font color='red'>Lembre-se da forma de cálculo da média de uma distribuição binomial</font>"
    },
    {
      "metadata": {},
      "cell_type": "markdown",
      "source": "### Solução"
    },
    {
      "metadata": {},
      "cell_type": "markdown",
      "source": "### Média da distribuição binomial\n\n# $$\\mu=n \\times p$$"
    },
    {
      "metadata": {
        "trusted": true
      },
      "cell_type": "code",
      "source": "# media = n * p\n# n = media / p\n\nn <- 100 / probabilidade\nn <- round(n)\nn",
      "execution_count": 8,
      "outputs": [
        {
          "output_type": "display_data",
          "data": {
            "text/plain": "[1] 375",
            "text/latex": "375",
            "text/markdown": "375",
            "text/html": "375"
          },
          "metadata": {}
        }
      ]
    },
    {
      "metadata": {},
      "cell_type": "markdown",
      "source": "# <font color='green'>Problema C</font>"
    },
    {
      "metadata": {},
      "cell_type": "markdown",
      "source": "Um cliente nos encomendou um estudo para avaliar o **rendimento dos chefes de domicílio no Brasil**. Para isso precisamos realizar uma nova coleta de dados, isto é, uma nova pesquisa de campo. Após reunião com o cliente foi possível elencar o seguinte conjunto de informações:\n\n> A. O resultado da pesquisa precisa estar pronto em **2 meses**;\n\n> B. Teremos somente **R$\\$$ 150.000,00** de recursos para realização da pesquisa de campo; e\n    \n> C. Seria interessante uma **margem de erro não superior a 10% em relação a média estimada**.\n\nEm nossa experiência com estudos deste tipo, sabemos que o **custo médio por indivíduo entrevistado fica em torno de R$\\$$ 100,00**. Com este conjunto de fatos avalie e obtenha o seguinte conjunto de informações para passar ao cliente:\n\n\n> 1. Para obter uma estimativa para os parâmetros da população (renda dos chefes de domicílio no Brasil), realize uma amostragem aleatória simples em nosso conjunto de dados. Essa amostra deve conter 200 elementos (utilize set.seed(100) para garantir que o mesmo experimento possa ser realizado novamente). Obtenha a média e o desvio-padrão dessa amostra.\n    \n> 2. Para a **margem de erro** especificada pelo cliente obtenha os **tamanhos de amostra** necessários para garantir os **níveis de confiança de 90%, 95% e 99%**.\n    \n> 3. Obtenha o **custo da pesquisa** para os três níveis de confiança.\n    \n> 4. Para o maior nível de confiança viável (dentro do orçamento disponível), obtenha um **intervalo de confiança para a média da população**.\n    \n> 5. Assumindo o **nível de confiança escolhido no item anterior**, qual **margem de erro** pode ser considerada utilizando todo o recurso disponibilizado pelo cliente?\n    \n> 6. Assumindo um **nível de confiança de 95%**, **quanto a pesquisa custaria ao cliente** caso fosse considerada uma **margem de erro de apenas 5%** em relação a média estimada?\n"
    },
    {
      "metadata": {},
      "cell_type": "markdown",
      "source": "# <font color='blue'>Solução do item 1</font>"
    },
    {
      "metadata": {},
      "cell_type": "markdown",
      "source": "### Seleção de uma amostra aleatório simples\n\n#### <font color='red'>Lembre-se de utilizar *set.seed(100)*</font>"
    },
    {
      "metadata": {
        "trusted": true
      },
      "cell_type": "code",
      "source": "set.seed(100)\ndataset = sample_n(dados, 200)$Renda",
      "execution_count": 9,
      "outputs": []
    },
    {
      "metadata": {
        "trusted": true
      },
      "cell_type": "code",
      "source": "mean(dataset)",
      "execution_count": 10,
      "outputs": [
        {
          "output_type": "display_data",
          "data": {
            "text/plain": "[1] 2218.04",
            "text/latex": "2218.04",
            "text/markdown": "2218.04",
            "text/html": "2218.04"
          },
          "metadata": {}
        }
      ]
    },
    {
      "metadata": {
        "trusted": true
      },
      "cell_type": "code",
      "source": "sd(dataset)",
      "execution_count": 11,
      "outputs": [
        {
          "output_type": "display_data",
          "data": {
            "text/plain": "[1] 3853.379",
            "text/latex": "3853.37935984173",
            "text/markdown": "3853.37935984173",
            "text/html": "3853.37935984173"
          },
          "metadata": {}
        }
      ]
    },
    {
      "metadata": {},
      "cell_type": "markdown",
      "source": "### Dados do problema"
    },
    {
      "metadata": {
        "trusted": true
      },
      "cell_type": "code",
      "source": "media_amostra <- mean(dataset)\ndesvio_padrao_amostra <- sd(dataset)\nrecursos <- 150000\ncusto_entrevista <- 100",
      "execution_count": 12,
      "outputs": []
    },
    {
      "metadata": {},
      "cell_type": "markdown",
      "source": "# <font color='blue'>Solução do item 2</font>"
    },
    {
      "metadata": {},
      "cell_type": "markdown",
      "source": "### Obtenha a margem de erro\n\n#### <font color='red'>Lembre-se que a margem de erro deve estar na mesma unidade da variável que está sendo estudada (R$)</font>"
    },
    {
      "metadata": {
        "trusted": true
      },
      "cell_type": "code",
      "source": "e <- 0.10 * media_amostra\nglue('A margem de erro é de R$ {format(e, digits=2, decimal.mark=\",\", nsmall=2, big.mark=\".\", scientific=F)} para mais ou para menos')",
      "execution_count": 55,
      "outputs": [
        {
          "output_type": "display_data",
          "data": {
            "text/plain": "A margem de erro é de R$ 221,80 para mais ou para menos",
            "text/latex": "'A margem de erro é de R\\$ 221,80 para mais ou para menos'",
            "text/markdown": "'A margem de erro é de R$ 221,80 para mais ou para menos'",
            "text/html": "'A margem de erro é de R$ 221,80 para mais ou para menos'"
          },
          "metadata": {}
        }
      ]
    },
    {
      "metadata": {},
      "cell_type": "markdown",
      "source": "### Tamanho da amostra ($1 - \\alpha = 90\\%$)"
    },
    {
      "metadata": {
        "trusted": true
      },
      "cell_type": "code",
      "source": "0.5 + (0.9 / 2)",
      "execution_count": 56,
      "outputs": [
        {
          "output_type": "display_data",
          "data": {
            "text/plain": "[1] 0.95",
            "text/latex": "0.95",
            "text/markdown": "0.95",
            "text/html": "0.95"
          },
          "metadata": {}
        }
      ]
    },
    {
      "metadata": {
        "trusted": true
      },
      "cell_type": "code",
      "source": "z <- qnorm(.95)\nn_confianca_90 <- (z * (desvio_padrao_amostra / e)) ** 2\nn_confianca_90 <- round(n_confianca_90)\nglue('Para um nível de confiança de 90% devemos selecionar uma amostra de {n_confianca_90} elementos.')",
      "execution_count": 57,
      "outputs": [
        {
          "output_type": "display_data",
          "data": {
            "text/plain": "Para um nível de confiança de 90% devemos selecionar uma amostra de 817 elementos.",
            "text/latex": "'Para um nível de confiança de 90\\% devemos selecionar uma amostra de 817 elementos.'",
            "text/markdown": "'Para um nível de confiança de 90% devemos selecionar uma amostra de 817 elementos.'",
            "text/html": "'Para um nível de confiança de 90% devemos selecionar uma amostra de 817 elementos.'"
          },
          "metadata": {}
        }
      ]
    },
    {
      "metadata": {},
      "cell_type": "markdown",
      "source": "### Tamanho da amostra ($1 - \\alpha = 95\\%$)"
    },
    {
      "metadata": {
        "trusted": true
      },
      "cell_type": "code",
      "source": "0.5 + (0.95 / 2)",
      "execution_count": 58,
      "outputs": [
        {
          "output_type": "display_data",
          "data": {
            "text/plain": "[1] 0.975",
            "text/latex": "0.975",
            "text/markdown": "0.975",
            "text/html": "0.975"
          },
          "metadata": {}
        }
      ]
    },
    {
      "metadata": {
        "trusted": true
      },
      "cell_type": "code",
      "source": "z <- qnorm(.975)\nn_confianca_95 <- (z * (desvio_padrao_amostra / e)) ** 2\nn_confianca_95 <- round(n_confianca_95)\nglue('Para um nível de confiança de 95% devemos selecionar uma amostra de {n_confianca_95} elementos.')",
      "execution_count": 59,
      "outputs": [
        {
          "output_type": "display_data",
          "data": {
            "text/plain": "Para um nível de confiança de 95% devemos selecionar uma amostra de 1159 elementos.",
            "text/latex": "'Para um nível de confiança de 95\\% devemos selecionar uma amostra de 1159 elementos.'",
            "text/markdown": "'Para um nível de confiança de 95% devemos selecionar uma amostra de 1159 elementos.'",
            "text/html": "'Para um nível de confiança de 95% devemos selecionar uma amostra de 1159 elementos.'"
          },
          "metadata": {}
        }
      ]
    },
    {
      "metadata": {},
      "cell_type": "markdown",
      "source": "### Tamanho da amostra ($1 - \\alpha = 99\\%$)"
    },
    {
      "metadata": {
        "trusted": true
      },
      "cell_type": "code",
      "source": "0.5 + (0.99 / 2)",
      "execution_count": 60,
      "outputs": [
        {
          "output_type": "display_data",
          "data": {
            "text/plain": "[1] 0.995",
            "text/latex": "0.995",
            "text/markdown": "0.995",
            "text/html": "0.995"
          },
          "metadata": {}
        }
      ]
    },
    {
      "metadata": {
        "trusted": true
      },
      "cell_type": "code",
      "source": "z <- qnorm(.995)\nn_confianca_99 <- (z * (desvio_padrao_amostra / e)) ** 2\nn_confianca_99 <- round(n_confianca_99)\nglue('Para um nível de confiança de 99% devemos selecionar uma amostra de {n_confianca_99} elementos.')",
      "execution_count": 61,
      "outputs": [
        {
          "output_type": "display_data",
          "data": {
            "text/plain": "Para um nível de confiança de 99% devemos selecionar uma amostra de 2003 elementos.",
            "text/latex": "'Para um nível de confiança de 99\\% devemos selecionar uma amostra de 2003 elementos.'",
            "text/markdown": "'Para um nível de confiança de 99% devemos selecionar uma amostra de 2003 elementos.'",
            "text/html": "'Para um nível de confiança de 99% devemos selecionar uma amostra de 2003 elementos.'"
          },
          "metadata": {}
        }
      ]
    },
    {
      "metadata": {},
      "cell_type": "markdown",
      "source": "# <font color='blue'>Solução do item 3</font>"
    },
    {
      "metadata": {},
      "cell_type": "markdown",
      "source": "### Custo da pesquisa para o nível de confiança de 90%"
    },
    {
      "metadata": {
        "trusted": true
      },
      "cell_type": "code",
      "source": "custo_confianca_90 <- n_confianca_90 * custo_entrevista\nglue('Para um nível de confiança de 90% o custo da pesquisa seria de R$ {format(custo_confianca_90, digits=2, decimal.mark=\",\", nsmall=2, big.mark=\".\", scientific=F)}')",
      "execution_count": 62,
      "outputs": [
        {
          "output_type": "display_data",
          "data": {
            "text/plain": "Para um nível de confiança de 90% o custo da pesquisa seria de R$ 81.700,00",
            "text/latex": "'Para um nível de confiança de 90\\% o custo da pesquisa seria de R\\$ 81.700,00'",
            "text/markdown": "'Para um nível de confiança de 90% o custo da pesquisa seria de R$ 81.700,00'",
            "text/html": "'Para um nível de confiança de 90% o custo da pesquisa seria de R$ 81.700,00'"
          },
          "metadata": {}
        }
      ]
    },
    {
      "metadata": {},
      "cell_type": "markdown",
      "source": "### Custo da pesquisa para o nível de confiança de 95%"
    },
    {
      "metadata": {
        "trusted": true
      },
      "cell_type": "code",
      "source": "custo_confianca_95 <- n_confianca_95 * custo_entrevista\nglue('Para um nível de confiança de 95% o custo da pesquisa seria de R$ {format(custo_confianca_95, digits=2, decimal.mark=\",\", nsmall=2, big.mark=\".\", scientific=F)}')",
      "execution_count": 63,
      "outputs": [
        {
          "output_type": "display_data",
          "data": {
            "text/plain": "Para um nível de confiança de 95% o custo da pesquisa seria de R$ 115.900,00",
            "text/latex": "'Para um nível de confiança de 95\\% o custo da pesquisa seria de R\\$ 115.900,00'",
            "text/markdown": "'Para um nível de confiança de 95% o custo da pesquisa seria de R$ 115.900,00'",
            "text/html": "'Para um nível de confiança de 95% o custo da pesquisa seria de R$ 115.900,00'"
          },
          "metadata": {}
        }
      ]
    },
    {
      "metadata": {},
      "cell_type": "markdown",
      "source": "### Custo da pesquisa para o nível de confiança de 99%"
    },
    {
      "metadata": {
        "trusted": true
      },
      "cell_type": "code",
      "source": "custo_confianca_99 <- n_confianca_99 * custo_entrevista\nglue('Para um nível de confiança de 99% o custo da pesquisa seria de R$ {format(custo_confianca_99, digits=2, decimal.mark=\",\", nsmall=2, big.mark=\".\", scientific=F)}')",
      "execution_count": 64,
      "outputs": [
        {
          "output_type": "display_data",
          "data": {
            "text/plain": "Para um nível de confiança de 99% o custo da pesquisa seria de R$ 200.300,00",
            "text/latex": "'Para um nível de confiança de 99\\% o custo da pesquisa seria de R\\$ 200.300,00'",
            "text/markdown": "'Para um nível de confiança de 99% o custo da pesquisa seria de R$ 200.300,00'",
            "text/html": "'Para um nível de confiança de 99% o custo da pesquisa seria de R$ 200.300,00'"
          },
          "metadata": {}
        }
      ]
    },
    {
      "metadata": {},
      "cell_type": "markdown",
      "source": "# <font color='blue'>Solução do item 4</font>"
    },
    {
      "metadata": {
        "trusted": true
      },
      "cell_type": "code",
      "source": "probabilidade <- 0.5 + (0.95 / 2)\nz <- qnorm(probabilidade)\nmedia_amostra - (z * ( desvio_padrao_amostra / sqrt(n_confianca_95) ))\nmedia_amostra + (z * ( desvio_padrao_amostra / sqrt(n_confianca_95) ))",
      "execution_count": 65,
      "outputs": [
        {
          "output_type": "display_data",
          "data": {
            "text/plain": "[1] 1996.196",
            "text/latex": "1996.19576881774",
            "text/markdown": "1996.19576881774",
            "text/html": "1996.19576881774"
          },
          "metadata": {}
        },
        {
          "output_type": "display_data",
          "data": {
            "text/plain": "[1] 2439.884",
            "text/latex": "2439.88423118226",
            "text/markdown": "2439.88423118226",
            "text/html": "2439.88423118226"
          },
          "metadata": {}
        }
      ]
    },
    {
      "metadata": {},
      "cell_type": "markdown",
      "source": "# <font color='blue'>Solução do item 5</font>"
    },
    {
      "metadata": {
        "trusted": true
      },
      "cell_type": "code",
      "source": "n_confianca_95 <- recursos / custo_entrevista\nn_confianca_95",
      "execution_count": 67,
      "outputs": [
        {
          "output_type": "display_data",
          "data": {
            "text/plain": "[1] 1500",
            "text/latex": "1500",
            "text/markdown": "1500",
            "text/html": "1500"
          },
          "metadata": {}
        }
      ]
    },
    {
      "metadata": {
        "trusted": true
      },
      "cell_type": "code",
      "source": "z <- qnorm(.975)\ne <- z * (desvio_padrao_amostra / sqrt(n_confianca_95))\ne",
      "execution_count": 69,
      "outputs": [
        {
          "output_type": "display_data",
          "data": {
            "text/plain": "[1] 195.0043",
            "text/latex": "195.004318091259",
            "text/markdown": "195.004318091259",
            "text/html": "195.004318091259"
          },
          "metadata": {}
        }
      ]
    },
    {
      "metadata": {
        "trusted": true
      },
      "cell_type": "code",
      "source": "e_percentual <- (e / media_amostra) * 100\nglue('A nova margem de erro é {format(e_percentual, digits = 2, nsmall = 2, decimal.mark = \",\")}%.')",
      "execution_count": 73,
      "outputs": [
        {
          "output_type": "display_data",
          "data": {
            "text/plain": "A nova margem de erro é 8,79%.",
            "text/latex": "'A nova margem de erro é 8,79\\%.'",
            "text/markdown": "'A nova margem de erro é 8,79%.'",
            "text/html": "'A nova margem de erro é 8,79%.'"
          },
          "metadata": {}
        }
      ]
    },
    {
      "metadata": {},
      "cell_type": "markdown",
      "source": "# <font color='blue'>Solução do item 6</font>"
    },
    {
      "metadata": {
        "trusted": true
      },
      "cell_type": "code",
      "source": "e <- 0.05 * media_amostra\nglue('A margem de erro é de R$ {format(e, digits=2, decimal.mark=\",\", nsmall=2, big.mark=\".\", scientific=F)} para mais ou para menos')",
      "execution_count": 74,
      "outputs": [
        {
          "output_type": "display_data",
          "data": {
            "text/plain": "A margem de erro é de R$ 110,90 para mais ou para menos",
            "text/latex": "'A margem de erro é de R\\$ 110,90 para mais ou para menos'",
            "text/markdown": "'A margem de erro é de R$ 110,90 para mais ou para menos'",
            "text/html": "'A margem de erro é de R$ 110,90 para mais ou para menos'"
          },
          "metadata": {}
        }
      ]
    },
    {
      "metadata": {
        "trusted": true
      },
      "cell_type": "code",
      "source": "z <- qnorm(.975)\nn_confianca_95 <- (z * (desvio_padrao_amostra / e)) ** 2\nn_confianca_95 <- round(n_confianca_95)\nglue('Para um nível de confiança de 95% devemos selecionar uma amostra de {n_confianca_95} elementos.')",
      "execution_count": 75,
      "outputs": [
        {
          "output_type": "display_data",
          "data": {
            "text/plain": "Para um nível de confiança de 95% devemos selecionar uma amostra de 4638 elementos.",
            "text/latex": "'Para um nível de confiança de 95\\% devemos selecionar uma amostra de 4638 elementos.'",
            "text/markdown": "'Para um nível de confiança de 95% devemos selecionar uma amostra de 4638 elementos.'",
            "text/html": "'Para um nível de confiança de 95% devemos selecionar uma amostra de 4638 elementos.'"
          },
          "metadata": {}
        }
      ]
    },
    {
      "metadata": {
        "trusted": true
      },
      "cell_type": "code",
      "source": "custo_confianca_95 <- n_confianca_95 * custo_entrevista\nglue('Para um nível de confiança de 95% o custo da pesquisa seria de R$ {format(custo_confianca_95, digits=2, decimal.mark=\",\", nsmall=2, big.mark=\".\", scientific=F)}')",
      "execution_count": 76,
      "outputs": [
        {
          "output_type": "display_data",
          "data": {
            "text/plain": "Para um nível de confiança de 95% o custo da pesquisa seria de R$ 463.800,00",
            "text/latex": "'Para um nível de confiança de 95\\% o custo da pesquisa seria de R\\$ 463.800,00'",
            "text/markdown": "'Para um nível de confiança de 95% o custo da pesquisa seria de R$ 463.800,00'",
            "text/html": "'Para um nível de confiança de 95% o custo da pesquisa seria de R$ 463.800,00'"
          },
          "metadata": {}
        }
      ]
    },
    {
      "metadata": {
        "trusted": false
      },
      "cell_type": "code",
      "source": "",
      "execution_count": null,
      "outputs": []
    }
  ],
  "metadata": {
    "colab": {
      "name": "Análise_Descritiva.ipynb",
      "provenance": [],
      "toc_visible": true,
      "version": "0.3.2"
    },
    "kernelspec": {
      "name": "r",
      "display_name": "R",
      "language": "R"
    },
    "language_info": {
      "mimetype": "text/x-r-source",
      "name": "R",
      "pygments_lexer": "r",
      "version": "3.5.3",
      "file_extension": ".r",
      "codemirror_mode": "r"
    }
  },
  "nbformat": 4,
  "nbformat_minor": 1
}