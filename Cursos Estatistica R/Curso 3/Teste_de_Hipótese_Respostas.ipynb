{
  "cells": [
    {
      "metadata": {
        "colab_type": "text",
        "id": "WvMflodMjQKe"
      },
      "cell_type": "markdown",
      "source": "# <font color=green size=10>CURSO DE ESTATÍSTICA - PARTE 3</font>\n\n***\n\n## Trabalho sobre testes de hipóteses\n\nUtilizando os conhecimentos adquiridos em nosso treinamento realize o teste de hipóteses proposto abaixo.\n\nSiga o roteiro proposto e vá completando as células vazias. Procure pensar em mais testes interessantes que podem ser realizados com o nosso dataset."
    },
    {
      "metadata": {
        "colab_type": "text",
        "id": "ZIqLOffNTg1Y"
      },
      "cell_type": "markdown",
      "source": "***"
    },
    {
      "metadata": {
        "colab_type": "text",
        "id": "lmAJLIu8pslb"
      },
      "cell_type": "markdown",
      "source": "## <font color='red'>Problema</font>"
    },
    {
      "metadata": {
        "colab_type": "text",
        "id": "0zUUY8klpslc"
      },
      "cell_type": "markdown",
      "source": "Você é um pesquisador que estuda o mercado de trabalho brasileiro e resolve estudar as diferenças salariais dos trabalhadores dos estados do Rio de Janeiro e de São Paulo. Durante sua pesquisa você verifica que, aparentemente, os rendimentos dos trabalhadores no estado do Rio de Janeiro são mais baixos que os rendimentos dos trabalhadores no estado de São Paulo. Para confirmar esta conclusão realize um teste de hipótese de comparação de médias em cima de duas amostras de trabalhadores dos dois estados. Siga as seguintes etapas:\n\n- Utilize o *dataset* 'dados_proj.csv' para rodar o teste. Este *dataset* tem uma amostra de **tamanho 500** dos rendimentos dos trabalhadores dos dois estados (RJ e SP).\n- Considere o **nível de significância de 5%**.\n- Teste a hipótese de que a **renda média dos trabalhadores do Rio de Janeiro é menor que a renda média dos trabalhadores de São Paulo**."
    },
    {
      "metadata": {
        "colab_type": "text",
        "id": "WUknTBZgpslc"
      },
      "cell_type": "markdown",
      "source": "---"
    },
    {
      "metadata": {
        "colab_type": "text",
        "id": "xzGuwM4xpslc"
      },
      "cell_type": "markdown",
      "source": "### Importando o *dataset* 'dados_proj.csv'\n\nO *dataset* apresenta duas variáveis: **Renda_RJ** e **Renda_SP**."
    },
    {
      "metadata": {
        "trusted": true
      },
      "cell_type": "code",
      "source": "dados <- read.csv('dados_proj.csv')",
      "execution_count": 1,
      "outputs": []
    },
    {
      "metadata": {
        "trusted": true
      },
      "cell_type": "code",
      "source": "head(dados)",
      "execution_count": 2,
      "outputs": [
        {
          "output_type": "display_data",
          "data": {
            "text/plain": "  Renda_RJ Renda_SP\n1  1300     1800   \n2 35000      700   \n3  1300     8000   \n4  2364     1800   \n5  1500     2364   \n6  2500    11000   ",
            "text/latex": "A data.frame: 6 x 2\n\\begin{tabular}{r|ll}\n Renda\\_RJ & Renda\\_SP\\\\\n <int> & <int>\\\\\n\\hline\n\t  1300 &  1800\\\\\n\t 35000 &   700\\\\\n\t  1300 &  8000\\\\\n\t  2364 &  1800\\\\\n\t  1500 &  2364\\\\\n\t  2500 & 11000\\\\\n\\end{tabular}\n",
            "text/markdown": "\nA data.frame: 6 x 2\n\n| Renda_RJ &lt;int&gt; | Renda_SP &lt;int&gt; |\n|---|---|\n|  1300 |  1800 |\n| 35000 |   700 |\n|  1300 |  8000 |\n|  2364 |  1800 |\n|  1500 |  2364 |\n|  2500 | 11000 |\n\n",
            "text/html": "<table>\n<caption>A data.frame: 6 x 2</caption>\n<thead>\n\t<tr><th scope=col>Renda_RJ</th><th scope=col>Renda_SP</th></tr>\n\t<tr><th scope=col>&lt;int&gt;</th><th scope=col>&lt;int&gt;</th></tr>\n</thead>\n<tbody>\n\t<tr><td> 1300</td><td> 1800</td></tr>\n\t<tr><td>35000</td><td>  700</td></tr>\n\t<tr><td> 1300</td><td> 8000</td></tr>\n\t<tr><td> 2364</td><td> 1800</td></tr>\n\t<tr><td> 1500</td><td> 2364</td></tr>\n\t<tr><td> 2500</td><td>11000</td></tr>\n</tbody>\n</table>\n"
          },
          "metadata": {}
        }
      ]
    },
    {
      "metadata": {
        "colab_type": "text",
        "id": "FOFa-cHwpslg"
      },
      "cell_type": "markdown",
      "source": "### Dados do problema\nObter média e desvio-padrão para as duas amostras"
    },
    {
      "metadata": {
        "colab": {
          "base_uri": "https://localhost:8080/",
          "height": 35
        },
        "colab_type": "code",
        "id": "BGyXCbompslh",
        "outputId": "bdfd1e09-fc68-49a1-a440-bf0d7b34c918",
        "trusted": true
      },
      "cell_type": "code",
      "source": "media_amostra_rj <- mean(dados$Renda_RJ)\nmedia_amostra_rj",
      "execution_count": 3,
      "outputs": [
        {
          "output_type": "display_data",
          "data": {
            "text/plain": "[1] 2240.518",
            "text/latex": "2240.518",
            "text/markdown": "2240.518",
            "text/html": "2240.518"
          },
          "metadata": {}
        }
      ]
    },
    {
      "metadata": {
        "colab": {
          "base_uri": "https://localhost:8080/",
          "height": 35
        },
        "colab_type": "code",
        "id": "RoxFOCA3pslk",
        "outputId": "f17f8f80-9e2e-40be-b501-3e4c68372cce",
        "trusted": true
      },
      "cell_type": "code",
      "source": "desvio_padrao_amostra_rj <-sd(dados$Renda_RJ)\ndesvio_padrao_amostra_rj",
      "execution_count": 4,
      "outputs": [
        {
          "output_type": "display_data",
          "data": {
            "text/plain": "[1] 4643.836",
            "text/latex": "4643.83616186796",
            "text/markdown": "4643.83616186796",
            "text/html": "4643.83616186796"
          },
          "metadata": {}
        }
      ]
    },
    {
      "metadata": {
        "colab": {
          "base_uri": "https://localhost:8080/",
          "height": 35
        },
        "colab_type": "code",
        "id": "Of8L6Hygpsll",
        "outputId": "b3d0901d-2379-4808-f3cb-a41368c1264d",
        "trusted": true
      },
      "cell_type": "code",
      "source": "media_amostra_sp <- mean(dados$Renda_SP)\nmedia_amostra_sp",
      "execution_count": 5,
      "outputs": [
        {
          "output_type": "display_data",
          "data": {
            "text/plain": "[1] 2839.352",
            "text/latex": "2839.352",
            "text/markdown": "2839.352",
            "text/html": "2839.352"
          },
          "metadata": {}
        }
      ]
    },
    {
      "metadata": {
        "colab": {
          "base_uri": "https://localhost:8080/",
          "height": 35
        },
        "colab_type": "code",
        "id": "-cSpXXTepsln",
        "outputId": "3466627b-3460-4fda-cb6e-dded783196b5",
        "trusted": true
      },
      "cell_type": "code",
      "source": "desvio_padrao_amostra_sp <- sd(dados$Renda_SP)\ndesvio_padrao_amostra_sp",
      "execution_count": 6,
      "outputs": [
        {
          "output_type": "display_data",
          "data": {
            "text/plain": "[1] 3699.384",
            "text/latex": "3699.38422543412",
            "text/markdown": "3699.38422543412",
            "text/html": "3699.38422543412"
          },
          "metadata": {}
        }
      ]
    },
    {
      "metadata": {},
      "cell_type": "markdown",
      "source": "Variáveis com os dados do problema"
    },
    {
      "metadata": {
        "colab": {},
        "colab_type": "code",
        "id": "Cl7kdxkUpslo",
        "trusted": true
      },
      "cell_type": "code",
      "source": "significancia <- 0.05\nconfianca <- 1 - significancia\nn_rj <- nrow(dados)\nn_sp <- nrow(dados)\nD_0 <- 0",
      "execution_count": 7,
      "outputs": []
    },
    {
      "metadata": {
        "colab_type": "text",
        "id": "Kyp6CNssrAmw"
      },
      "cell_type": "markdown",
      "source": "## Lembre-se..."
    },
    {
      "metadata": {
        "colab_type": "text",
        "id": "xGGMFhzwrAmx"
      },
      "cell_type": "markdown",
      "source": "<img src='https://caelum-online-public.s3.amazonaws.com/1229-estatistica-parte3/01/img014.png' width=90%>"
    },
    {
      "metadata": {
        "colab_type": "text",
        "id": "PGoWwWwjpslp"
      },
      "cell_type": "markdown",
      "source": "---"
    },
    {
      "metadata": {
        "colab_type": "text",
        "id": "tO597Oxgpslp"
      },
      "cell_type": "markdown",
      "source": "### **Passo 1** - formulação das hipóteses $H_0$ e $H_1$\n\n#### <font color='red'>Lembre-se, a hipótese nula sempre contém a alegação de igualdade</font>"
    },
    {
      "metadata": {
        "colab_type": "text",
        "id": "LysVU-7fpslr"
      },
      "cell_type": "markdown",
      "source": "### $\\mu_1 \\Rightarrow$ Rendimento médio no Rio de Janeiro\n### $\\mu_2 \\Rightarrow$ Rendimento médio em São Paulo\n\n### $\n\\begin{cases}\nH_0: \\mu_1 \\geq \\mu_2\\\\\nH_1: \\mu_1 < \\mu_2\n\\end{cases}\n$\n\n### ou\n\n### $\n\\begin{cases}\nH_0: \\mu_1 -\\mu_2 \\geq 0\\\\\nH_1: \\mu_1 -\\mu_2 < 0\n\\end{cases}\n$"
    },
    {
      "metadata": {
        "colab_type": "text",
        "id": "ENKqbCgQpslr"
      },
      "cell_type": "markdown",
      "source": "---"
    },
    {
      "metadata": {
        "colab_type": "text",
        "id": "dBA05Y3Zpslr"
      },
      "cell_type": "markdown",
      "source": "### **Passo 2** - escolha da distribuição amostral adequada"
    },
    {
      "metadata": {
        "colab_type": "text",
        "id": "Hh5qJPwqPVic"
      },
      "cell_type": "markdown",
      "source": "<img src='https://caelum-online-public.s3.amazonaws.com/1229-estatistica-parte3/01/img003.png' width=70%>"
    },
    {
      "metadata": {
        "colab_type": "text",
        "id": "6_Q_Wtjlpsls"
      },
      "cell_type": "markdown",
      "source": "### O tamanho da amostra é maior que 30?\n#### Resp.: Sim\n\n### O desvio padrão populacional é conhecido?\n#### Resp.: Não"
    },
    {
      "metadata": {
        "colab_type": "text",
        "id": "T6sVzVjVpsls"
      },
      "cell_type": "markdown",
      "source": "---"
    },
    {
      "metadata": {
        "colab_type": "text",
        "id": "SUN4yJqzpsls"
      },
      "cell_type": "markdown",
      "source": "### **Passo 3** - fixação da significância do teste ($\\alpha$)"
    },
    {
      "metadata": {
        "colab": {
          "base_uri": "https://localhost:8080/",
          "height": 35
        },
        "colab_type": "code",
        "id": "b3Y_CZmzpsls",
        "outputId": "e75d68fb-3391-4d1b-d5ea-274f2e2dbe5d",
        "trusted": true
      },
      "cell_type": "code",
      "source": "probabilidade <- significancia\nprobabilidade",
      "execution_count": 8,
      "outputs": [
        {
          "output_type": "display_data",
          "data": {
            "text/plain": "[1] 0.05",
            "text/latex": "0.05",
            "text/markdown": "0.05",
            "text/html": "0.05"
          },
          "metadata": {}
        }
      ]
    },
    {
      "metadata": {
        "colab": {
          "base_uri": "https://localhost:8080/",
          "height": 35
        },
        "colab_type": "code",
        "id": "qNse2bFRpslu",
        "outputId": "d3014462-b26b-488d-f9db-29d837d6c683",
        "trusted": true
      },
      "cell_type": "code",
      "source": "z_alpha <- qnorm(probabilidade)\nround(z_alpha, 2)",
      "execution_count": 9,
      "outputs": [
        {
          "output_type": "display_data",
          "data": {
            "text/plain": "[1] -1.64",
            "text/latex": "-1.64",
            "text/markdown": "-1.64",
            "text/html": "-1.64"
          },
          "metadata": {}
        }
      ]
    },
    {
      "metadata": {},
      "cell_type": "markdown",
      "source": "![Estatística-Teste](https://caelum-online-public.s3.amazonaws.com/1229-estatistica-parte3/01/img028.png)"
    },
    {
      "metadata": {
        "colab_type": "text",
        "id": "xUhiEXRMpslv"
      },
      "cell_type": "markdown",
      "source": "---"
    },
    {
      "metadata": {
        "colab_type": "text",
        "id": "iooB1aPHpslv"
      },
      "cell_type": "markdown",
      "source": "### **Passo 4** - cálculo da estatística-teste e verificação desse valor com as áreas de aceitação e rejeição do teste\n\n# $$z = \\frac{(\\bar{x_1} - \\bar{x_2})-D_0}{\\sqrt{\\frac{s_1^2}{n_1} + \\frac{s_2^2}{n_2}}}$$"
    },
    {
      "metadata": {
        "colab": {
          "base_uri": "https://localhost:8080/",
          "height": 35
        },
        "colab_type": "code",
        "id": "AL2i9JOTpslw",
        "outputId": "70de1497-94ac-4e2b-cfec-89552cbda99b",
        "trusted": true
      },
      "cell_type": "code",
      "source": "numerador <- (media_amostra_rj - media_amostra_sp) - D_0\n\ndenominador <- sqrt((desvio_padrao_amostra_rj ** 2 / n_rj) + (desvio_padrao_amostra_sp ** 2 / n_sp))\n\nz <- numerador / denominador\n\nz",
      "execution_count": 10,
      "outputs": [
        {
          "output_type": "display_data",
          "data": {
            "text/plain": "[1] -2.255318",
            "text/latex": "-2.25531827360856",
            "text/markdown": "-2.25531827360856",
            "text/html": "-2.25531827360856"
          },
          "metadata": {}
        }
      ]
    },
    {
      "metadata": {},
      "cell_type": "markdown",
      "source": "![Estatística-Teste](https://caelum-online-public.s3.amazonaws.com/1229-estatistica-parte3/01/img029.png)"
    },
    {
      "metadata": {
        "colab_type": "text",
        "id": "4dn58Fc2pslx"
      },
      "cell_type": "markdown",
      "source": "---"
    },
    {
      "metadata": {
        "colab_type": "text",
        "id": "P-7NL33-pslx"
      },
      "cell_type": "markdown",
      "source": "### **Passo 5** - Aceitação ou rejeição da hipótese nula"
    },
    {
      "metadata": {
        "colab_type": "text",
        "id": "QrObW-BXpsly"
      },
      "cell_type": "markdown",
      "source": "### <font color='red'>Critério do valor crítico</font>"
    },
    {
      "metadata": {
        "colab": {
          "base_uri": "https://localhost:8080/",
          "height": 35
        },
        "colab_type": "code",
        "id": "tkJSji7gpsly",
        "outputId": "871244f8-08a3-456c-f7be-eb86e8a37255",
        "trusted": true
      },
      "cell_type": "code",
      "source": "z <= z_alpha",
      "execution_count": 11,
      "outputs": [
        {
          "output_type": "display_data",
          "data": {
            "text/plain": "[1] TRUE",
            "text/latex": "TRUE",
            "text/markdown": "TRUE",
            "text/html": "TRUE"
          },
          "metadata": {}
        }
      ]
    },
    {
      "metadata": {
        "colab_type": "text",
        "id": "cyuNEHfwpsl0"
      },
      "cell_type": "markdown",
      "source": "### <font color='red'>Critério do valor $p$</font>"
    },
    {
      "metadata": {
        "trusted": true
      },
      "cell_type": "code",
      "source": "z",
      "execution_count": 12,
      "outputs": [
        {
          "output_type": "display_data",
          "data": {
            "text/plain": "[1] -2.255318",
            "text/latex": "-2.25531827360856",
            "text/markdown": "-2.25531827360856",
            "text/html": "-2.25531827360856"
          },
          "metadata": {}
        }
      ]
    },
    {
      "metadata": {
        "trusted": true
      },
      "cell_type": "code",
      "source": "pnorm(z, lower.tail = T)",
      "execution_count": 13,
      "outputs": [
        {
          "output_type": "display_data",
          "data": {
            "text/plain": "[1] 0.01205668",
            "text/latex": "0.0120566792156934",
            "text/markdown": "0.0120566792156934",
            "text/html": "0.0120566792156934"
          },
          "metadata": {}
        }
      ]
    },
    {
      "metadata": {
        "trusted": true
      },
      "cell_type": "code",
      "source": "p_valor <- pnorm(z, lower.tail = T)\np_valor",
      "execution_count": 14,
      "outputs": [
        {
          "output_type": "display_data",
          "data": {
            "text/plain": "[1] 0.01205668",
            "text/latex": "0.0120566792156934",
            "text/markdown": "0.0120566792156934",
            "text/html": "0.0120566792156934"
          },
          "metadata": {}
        }
      ]
    },
    {
      "metadata": {
        "trusted": true
      },
      "cell_type": "code",
      "source": "p_valor <= significancia",
      "execution_count": 15,
      "outputs": [
        {
          "output_type": "display_data",
          "data": {
            "text/plain": "[1] TRUE",
            "text/latex": "TRUE",
            "text/markdown": "TRUE",
            "text/html": "TRUE"
          },
          "metadata": {}
        }
      ]
    },
    {
      "metadata": {
        "colab_type": "text",
        "id": "UnBVO1uDpslz"
      },
      "cell_type": "markdown",
      "source": "### <font color='green'>Conclusão: Com um nível de confiança de 95% rejeitamos $H_0$, isto é, concluímos que a renda média no estado do Rio de Janeiro é menor que a renda média no estado de São Paulo.</font>"
    }
  ],
  "metadata": {
    "colab": {
      "name": "Teste_de_Hipótese_Respostas.ipynb",
      "provenance": [],
      "version": "0.3.2"
    },
    "kernelspec": {
      "name": "r",
      "display_name": "R",
      "language": "R"
    },
    "language_info": {
      "mimetype": "text/x-r-source",
      "name": "R",
      "pygments_lexer": "r",
      "version": "3.5.3",
      "file_extension": ".r",
      "codemirror_mode": "r"
    }
  },
  "nbformat": 4,
  "nbformat_minor": 1
}